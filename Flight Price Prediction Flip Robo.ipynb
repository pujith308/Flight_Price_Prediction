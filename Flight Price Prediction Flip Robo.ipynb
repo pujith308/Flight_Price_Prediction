{
 "cells": [
  {
   "cell_type": "markdown",
   "id": "275d811a",
   "metadata": {},
   "source": [
    "## Flight Price Prediction"
   ]
  },
  {
   "cell_type": "markdown",
   "id": "2ca2ecbe",
   "metadata": {},
   "source": [
    "## Problem Statement:"
   ]
  },
  {
   "cell_type": "raw",
   "id": "62fe80bf",
   "metadata": {},
   "source": [
    "Anyone who has booked a flight ticket knows how unexpectedly the prices vary. The cheapest\n",
    "available ticket on a given flight gets more and less expensive over time. This usually happens as\n",
    "an attempt to maximize revenue based on -\n",
    "1. Time of purchase patterns (making sure last-minute purchases are expensive)\n",
    "2. Keeping the flight as full as they want it (raising prices on a flight which is filling up in order\n",
    "to reduce sales and hold back inventory for those expensive last-minute expensive\n",
    "purchases)\n",
    "So, you have to work on a project where you collect data of flight fares with other features and\n",
    "work to make a model to predict fares of flights.\n"
   ]
  },
  {
   "cell_type": "markdown",
   "id": "a18d3949",
   "metadata": {},
   "source": [
    "## Importing the required libraries:"
   ]
  },
  {
   "cell_type": "code",
   "execution_count": 1,
   "id": "69470330",
   "metadata": {},
   "outputs": [],
   "source": [
    "import pandas as pd\n",
    "import numpy as np\n",
    "import seaborn as sns\n",
    "import matplotlib.pyplot as plt\n",
    "import sklearn\n",
    "from sklearn.model_selection import train_test_split,cross_val_score,GridSearchCV,RandomizedSearchCV\n",
    "from sklearn.ensemble import RandomForestRegressor,AdaBoostRegressor\n",
    "from sklearn.linear_model import LinearRegression,ElasticNet\n",
    "from sklearn.svm import SVR\n",
    "from sklearn.tree import DecisionTreeRegressor\n",
    "from sklearn.neighbors import KNeighborsRegressor\n",
    "from sklearn.metrics import mean_absolute_error,mean_squared_error,r2_score\n",
    "from sklearn.preprocessing import MinMaxScaler,power_transform,LabelEncoder,OrdinalEncoder,StandardScaler\n",
    "from sklearn.decomposition import PCA\n",
    "from scipy.stats import zscore\n",
    "import warnings\n",
    "warnings.filterwarnings('ignore')"
   ]
  },
  {
   "cell_type": "markdown",
   "id": "ce934611",
   "metadata": {},
   "source": [
    "## Loading the dataset:"
   ]
  },
  {
   "cell_type": "code",
   "execution_count": 2,
   "id": "4fde2f65",
   "metadata": {},
   "outputs": [],
   "source": [
    "df = pd.read_csv(\"flights_df_final.csv\")"
   ]
  },
  {
   "cell_type": "code",
   "execution_count": 3,
   "id": "eb2279c2",
   "metadata": {},
   "outputs": [],
   "source": [
    "df.drop(\"Unnamed: 0\",axis =1,inplace = True) #dropping the duplicate row column"
   ]
  },
  {
   "cell_type": "code",
   "execution_count": 4,
   "id": "c5308911",
   "metadata": {},
   "outputs": [
    {
     "data": {
      "text/html": [
       "<div>\n",
       "<style scoped>\n",
       "    .dataframe tbody tr th:only-of-type {\n",
       "        vertical-align: middle;\n",
       "    }\n",
       "\n",
       "    .dataframe tbody tr th {\n",
       "        vertical-align: top;\n",
       "    }\n",
       "\n",
       "    .dataframe thead th {\n",
       "        text-align: right;\n",
       "    }\n",
       "</style>\n",
       "<table border=\"1\" class=\"dataframe\">\n",
       "  <thead>\n",
       "    <tr style=\"text-align: right;\">\n",
       "      <th></th>\n",
       "      <th>Airline</th>\n",
       "      <th>Date</th>\n",
       "      <th>Source City</th>\n",
       "      <th>Destination City</th>\n",
       "      <th>Departure Time</th>\n",
       "      <th>Arrival Time</th>\n",
       "      <th>Duration</th>\n",
       "      <th>Stops</th>\n",
       "      <th>Price</th>\n",
       "    </tr>\n",
       "  </thead>\n",
       "  <tbody>\n",
       "    <tr>\n",
       "      <th>0</th>\n",
       "      <td>Air Asia</td>\n",
       "      <td>13-10-2021</td>\n",
       "      <td>Mumbai</td>\n",
       "      <td>Kolkata</td>\n",
       "      <td>23:05</td>\n",
       "      <td>07:00\\n+ 1 day</td>\n",
       "      <td>7h 55m</td>\n",
       "      <td>1 Stop</td>\n",
       "      <td>7,410</td>\n",
       "    </tr>\n",
       "    <tr>\n",
       "      <th>1</th>\n",
       "      <td>Air Asia</td>\n",
       "      <td>13-10-2021</td>\n",
       "      <td>Mumbai</td>\n",
       "      <td>Kolkata</td>\n",
       "      <td>20:50</td>\n",
       "      <td>08:15\\n+ 1 day</td>\n",
       "      <td>11h 25m</td>\n",
       "      <td>1 Stop</td>\n",
       "      <td>7,410</td>\n",
       "    </tr>\n",
       "    <tr>\n",
       "      <th>2</th>\n",
       "      <td>Air Asia</td>\n",
       "      <td>13-10-2021</td>\n",
       "      <td>Mumbai</td>\n",
       "      <td>Kolkata</td>\n",
       "      <td>05:55</td>\n",
       "      <td>21:20</td>\n",
       "      <td>15h 25m</td>\n",
       "      <td>2 Stop(s)</td>\n",
       "      <td>7,410</td>\n",
       "    </tr>\n",
       "    <tr>\n",
       "      <th>3</th>\n",
       "      <td>SpiceJet</td>\n",
       "      <td>13-10-2021</td>\n",
       "      <td>Mumbai</td>\n",
       "      <td>Kolkata</td>\n",
       "      <td>05:05</td>\n",
       "      <td>07:40</td>\n",
       "      <td>2h 35m</td>\n",
       "      <td>Non Stop</td>\n",
       "      <td>7,412</td>\n",
       "    </tr>\n",
       "    <tr>\n",
       "      <th>4</th>\n",
       "      <td>Go First</td>\n",
       "      <td>13-10-2021</td>\n",
       "      <td>Mumbai</td>\n",
       "      <td>Kolkata</td>\n",
       "      <td>07:40</td>\n",
       "      <td>10:20</td>\n",
       "      <td>2h 40m</td>\n",
       "      <td>Non Stop</td>\n",
       "      <td>7,412</td>\n",
       "    </tr>\n",
       "  </tbody>\n",
       "</table>\n",
       "</div>"
      ],
      "text/plain": [
       "    Airline        Date Source City Destination City Departure Time  \\\n",
       "0  Air Asia  13-10-2021      Mumbai          Kolkata          23:05   \n",
       "1  Air Asia  13-10-2021      Mumbai          Kolkata          20:50   \n",
       "2  Air Asia  13-10-2021      Mumbai          Kolkata          05:55   \n",
       "3  SpiceJet  13-10-2021      Mumbai          Kolkata          05:05   \n",
       "4  Go First  13-10-2021      Mumbai          Kolkata          07:40   \n",
       "\n",
       "     Arrival Time Duration      Stops  Price  \n",
       "0  07:00\\n+ 1 day   7h 55m     1 Stop  7,410  \n",
       "1  08:15\\n+ 1 day  11h 25m     1 Stop  7,410  \n",
       "2           21:20  15h 25m  2 Stop(s)  7,410  \n",
       "3           07:40   2h 35m   Non Stop  7,412  \n",
       "4           10:20   2h 40m   Non Stop  7,412  "
      ]
     },
     "execution_count": 4,
     "metadata": {},
     "output_type": "execute_result"
    }
   ],
   "source": [
    "df.head()"
   ]
  },
  {
   "cell_type": "code",
   "execution_count": 5,
   "id": "2cb3165e",
   "metadata": {},
   "outputs": [
    {
     "data": {
      "text/plain": [
       "(1611, 9)"
      ]
     },
     "execution_count": 5,
     "metadata": {},
     "output_type": "execute_result"
    }
   ],
   "source": [
    "df.shape"
   ]
  },
  {
   "cell_type": "markdown",
   "id": "bd65213c",
   "metadata": {},
   "source": [
    "## EDA (Exploratory Data Analysis)"
   ]
  },
  {
   "cell_type": "code",
   "execution_count": 6,
   "id": "21ab41fa",
   "metadata": {},
   "outputs": [
    {
     "name": "stdout",
     "output_type": "stream",
     "text": [
      "<class 'pandas.core.frame.DataFrame'>\n",
      "RangeIndex: 1611 entries, 0 to 1610\n",
      "Data columns (total 9 columns):\n",
      " #   Column            Non-Null Count  Dtype \n",
      "---  ------            --------------  ----- \n",
      " 0   Airline           1611 non-null   object\n",
      " 1   Date              1611 non-null   object\n",
      " 2   Source City       1611 non-null   object\n",
      " 3   Destination City  1611 non-null   object\n",
      " 4   Departure Time    1611 non-null   object\n",
      " 5   Arrival Time      1611 non-null   object\n",
      " 6   Duration          1611 non-null   object\n",
      " 7   Stops             1611 non-null   object\n",
      " 8   Price             1611 non-null   object\n",
      "dtypes: object(9)\n",
      "memory usage: 113.4+ KB\n"
     ]
    }
   ],
   "source": [
    "df.info()"
   ]
  },
  {
   "cell_type": "code",
   "execution_count": 7,
   "id": "e911544a",
   "metadata": {},
   "outputs": [
    {
     "data": {
      "text/plain": [
       "(1611, 9)"
      ]
     },
     "execution_count": 7,
     "metadata": {},
     "output_type": "execute_result"
    }
   ],
   "source": [
    "df.shape"
   ]
  },
  {
   "cell_type": "markdown",
   "id": "af948076",
   "metadata": {},
   "source": [
    "Now we have 1611 rows and 9 columns"
   ]
  },
  {
   "cell_type": "code",
   "execution_count": 8,
   "id": "8d79f9db",
   "metadata": {},
   "outputs": [
    {
     "data": {
      "text/plain": [
       "Index(['Airline', 'Date', 'Source City', 'Destination City', 'Departure Time',\n",
       "       'Arrival Time', 'Duration', 'Stops', 'Price'],\n",
       "      dtype='object')"
      ]
     },
     "execution_count": 8,
     "metadata": {},
     "output_type": "execute_result"
    }
   ],
   "source": [
    "df.columns"
   ]
  },
  {
   "cell_type": "code",
   "execution_count": 9,
   "id": "2c00bafb",
   "metadata": {},
   "outputs": [
    {
     "data": {
      "text/plain": [
       "Airline             object\n",
       "Date                object\n",
       "Source City         object\n",
       "Destination City    object\n",
       "Departure Time      object\n",
       "Arrival Time        object\n",
       "Duration            object\n",
       "Stops               object\n",
       "Price               object\n",
       "dtype: object"
      ]
     },
     "execution_count": 9,
     "metadata": {},
     "output_type": "execute_result"
    }
   ],
   "source": [
    "df.dtypes"
   ]
  },
  {
   "cell_type": "code",
   "execution_count": 10,
   "id": "b110e9ab",
   "metadata": {},
   "outputs": [
    {
     "data": {
      "text/plain": [
       "Airline             0\n",
       "Date                0\n",
       "Source City         0\n",
       "Destination City    0\n",
       "Departure Time      0\n",
       "Arrival Time        0\n",
       "Duration            0\n",
       "Stops               0\n",
       "Price               0\n",
       "dtype: int64"
      ]
     },
     "execution_count": 10,
     "metadata": {},
     "output_type": "execute_result"
    }
   ],
   "source": [
    "#lets check for null values\n",
    "df.isnull().sum()"
   ]
  },
  {
   "cell_type": "code",
   "execution_count": 11,
   "id": "1a21a8c0",
   "metadata": {},
   "outputs": [
    {
     "name": "stdout",
     "output_type": "stream",
     "text": [
      "Airline 6\n",
      "Date 15\n",
      "Source City 5\n",
      "Destination City 5\n",
      "Departure Time 138\n",
      "Arrival Time 142\n",
      "Duration 185\n",
      "Stops 4\n",
      "Price 120\n"
     ]
    }
   ],
   "source": [
    "#lets print out the columns with unique values\n",
    "for i in df.columns:\n",
    "    if df[i].dtype == 'object':\n",
    "        print(i,len(pd.unique(df[i])))"
   ]
  },
  {
   "cell_type": "code",
   "execution_count": 12,
   "id": "2b144194",
   "metadata": {},
   "outputs": [
    {
     "name": "stdout",
     "output_type": "stream",
     "text": [
      "\n",
      "\n",
      "Airline IndiGo       476\n",
      "Air India    368\n",
      "Vistara      367\n",
      "Go First     139\n",
      "Air Asia     137\n",
      "SpiceJet     124\n",
      "Name: Airline, dtype: int64\n",
      "\n",
      "\n",
      "Date 13-10-2021    263\n",
      "15-10-2021    243\n",
      "14-10-2021    243\n",
      "16-10-2021    243\n",
      "17-10-2021     99\n",
      "19-10-2021     99\n",
      "18-10-2021     99\n",
      "20-10-2021     74\n",
      "21-10-2021     74\n",
      "22-10-2021     49\n",
      "25-10-2021     25\n",
      "23-10-2021     25\n",
      "26-10-2021     25\n",
      "24-10-2021     25\n",
      "27-10-2021     25\n",
      "Name: Date, dtype: int64\n",
      "\n",
      "\n",
      "Source City Lucknow      395\n",
      "Bangalore    381\n",
      "New Delhi    335\n",
      "Mumbai       260\n",
      "Jaipur       240\n",
      "Name: Source City, dtype: int64\n",
      "\n",
      "\n",
      "Destination City Goa          395\n",
      "Chennai      381\n",
      "Hyderabad    335\n",
      "Kolkata      260\n",
      "Pune         240\n",
      "Name: Destination City, dtype: int64\n",
      "\n",
      "\n",
      "Departure Time 15:25    82\n",
      "08:05    60\n",
      "07:10    46\n",
      "06:40    43\n",
      "08:00    41\n",
      "         ..\n",
      "20:25     1\n",
      "17:35     1\n",
      "15:30     1\n",
      "07:55     1\n",
      "21:45     1\n",
      "Name: Departure Time, Length: 138, dtype: int64\n",
      "\n",
      "\n",
      "Arrival Time 11:35\\n+ 1 day    75\n",
      "07:15\\n+ 1 day    55\n",
      "08:40\\n+ 1 day    44\n",
      "23:35             40\n",
      "22:45             40\n",
      "                  ..\n",
      "16:50\\n+ 1 day     1\n",
      "08:40              1\n",
      "12:30\\n+ 1 day     1\n",
      "00:20\\n+ 1 day     1\n",
      "13:30              1\n",
      "Name: Arrival Time, Length: 142, dtype: int64\n",
      "\n",
      "\n",
      "Duration 20h 10m    75\n",
      "5h 20m     36\n",
      "5h 10m     30\n",
      "11h 15m    29\n",
      "14h 55m    27\n",
      "           ..\n",
      "5h 25m      1\n",
      "21h 10m     1\n",
      "18h 45m     1\n",
      "21h 30m     1\n",
      "19h 30m     1\n",
      "Name: Duration, Length: 185, dtype: int64\n",
      "\n",
      "\n",
      "Stops 1 Stop       1130\n",
      "2 Stop(s)     237\n",
      "Non Stop      230\n",
      "3 Stop(s)      14\n",
      "Name: Stops, dtype: int64\n",
      "\n",
      "\n",
      "Price 9,840     124\n",
      "5,955     105\n",
      "14,690     75\n",
      "5,956      68\n",
      "10,744     54\n",
      "         ... \n",
      "13,149      1\n",
      "11,664      1\n",
      "7,360       1\n",
      "15,128      1\n",
      "9,514       1\n",
      "Name: Price, Length: 120, dtype: int64\n"
     ]
    }
   ],
   "source": [
    "#lets print out the columns with unique values\n",
    "for i in df.columns:\n",
    "    if df[i].dtype == 'object':\n",
    "        print('\\n')\n",
    "        print(i,df[i].value_counts())"
   ]
  },
  {
   "cell_type": "code",
   "execution_count": 13,
   "id": "78622d44",
   "metadata": {},
   "outputs": [
    {
     "data": {
      "image/png": "[encoded data removed]",
      "text/plain": [
       "<Figure size 720x360 with 2 Axes>"
      ]
     },
     "metadata": {
      "needs_background": "light"
     },
     "output_type": "display_data"
    }
   ],
   "source": [
    "plt.figure(figsize=(10,5))\n",
    "sns.heatmap(df.isnull())\n",
    "plt.show()"
   ]
  },
  {
   "cell_type": "markdown",
   "id": "03770010",
   "metadata": {},
   "source": [
    "## Data Preprocessing"
   ]
  },
  {
   "cell_type": "code",
   "execution_count": 14,
   "id": "940087c9",
   "metadata": {},
   "outputs": [],
   "source": [
    "df['Dates'] =  pd.to_datetime(df['Date'],format=\"%d-%m-%Y\")  #converting to date datatype"
   ]
  },
  {
   "cell_type": "code",
   "execution_count": 15,
   "id": "4695d0b6",
   "metadata": {},
   "outputs": [
    {
     "data": {
      "text/plain": [
       "Int64Index([10], dtype='int64', name='Dates')"
      ]
     },
     "execution_count": 15,
     "metadata": {},
     "output_type": "execute_result"
    }
   ],
   "source": [
    "pd.DatetimeIndex(df['Dates']).month.unique()"
   ]
  },
  {
   "cell_type": "code",
   "execution_count": 16,
   "id": "ce6ad1d3",
   "metadata": {},
   "outputs": [],
   "source": [
    "#Dropping the old date column\n",
    "df.drop(\"Date\",axis =1 ,inplace = True)"
   ]
  },
  {
   "cell_type": "code",
   "execution_count": 17,
   "id": "b948fca9",
   "metadata": {},
   "outputs": [
    {
     "data": {
      "text/html": [
       "<div>\n",
       "<style scoped>\n",
       "    .dataframe tbody tr th:only-of-type {\n",
       "        vertical-align: middle;\n",
       "    }\n",
       "\n",
       "    .dataframe tbody tr th {\n",
       "        vertical-align: top;\n",
       "    }\n",
       "\n",
       "    .dataframe thead th {\n",
       "        text-align: right;\n",
       "    }\n",
       "</style>\n",
       "<table border=\"1\" class=\"dataframe\">\n",
       "  <thead>\n",
       "    <tr style=\"text-align: right;\">\n",
       "      <th></th>\n",
       "      <th>Airline</th>\n",
       "      <th>Source City</th>\n",
       "      <th>Destination City</th>\n",
       "      <th>Departure Time</th>\n",
       "      <th>Arrival Time</th>\n",
       "      <th>Duration</th>\n",
       "      <th>Stops</th>\n",
       "      <th>Price</th>\n",
       "      <th>Dates</th>\n",
       "    </tr>\n",
       "  </thead>\n",
       "  <tbody>\n",
       "    <tr>\n",
       "      <th>0</th>\n",
       "      <td>Air Asia</td>\n",
       "      <td>Mumbai</td>\n",
       "      <td>Kolkata</td>\n",
       "      <td>23:05</td>\n",
       "      <td>07:00\\n+ 1 day</td>\n",
       "      <td>7h 55m</td>\n",
       "      <td>1 Stop</td>\n",
       "      <td>7,410</td>\n",
       "      <td>2021-10-13</td>\n",
       "    </tr>\n",
       "    <tr>\n",
       "      <th>1</th>\n",
       "      <td>Air Asia</td>\n",
       "      <td>Mumbai</td>\n",
       "      <td>Kolkata</td>\n",
       "      <td>20:50</td>\n",
       "      <td>08:15\\n+ 1 day</td>\n",
       "      <td>11h 25m</td>\n",
       "      <td>1 Stop</td>\n",
       "      <td>7,410</td>\n",
       "      <td>2021-10-13</td>\n",
       "    </tr>\n",
       "    <tr>\n",
       "      <th>2</th>\n",
       "      <td>Air Asia</td>\n",
       "      <td>Mumbai</td>\n",
       "      <td>Kolkata</td>\n",
       "      <td>05:55</td>\n",
       "      <td>21:20</td>\n",
       "      <td>15h 25m</td>\n",
       "      <td>2 Stop(s)</td>\n",
       "      <td>7,410</td>\n",
       "      <td>2021-10-13</td>\n",
       "    </tr>\n",
       "    <tr>\n",
       "      <th>3</th>\n",
       "      <td>SpiceJet</td>\n",
       "      <td>Mumbai</td>\n",
       "      <td>Kolkata</td>\n",
       "      <td>05:05</td>\n",
       "      <td>07:40</td>\n",
       "      <td>2h 35m</td>\n",
       "      <td>Non Stop</td>\n",
       "      <td>7,412</td>\n",
       "      <td>2021-10-13</td>\n",
       "    </tr>\n",
       "    <tr>\n",
       "      <th>4</th>\n",
       "      <td>Go First</td>\n",
       "      <td>Mumbai</td>\n",
       "      <td>Kolkata</td>\n",
       "      <td>07:40</td>\n",
       "      <td>10:20</td>\n",
       "      <td>2h 40m</td>\n",
       "      <td>Non Stop</td>\n",
       "      <td>7,412</td>\n",
       "      <td>2021-10-13</td>\n",
       "    </tr>\n",
       "  </tbody>\n",
       "</table>\n",
       "</div>"
      ],
      "text/plain": [
       "    Airline Source City Destination City Departure Time    Arrival Time  \\\n",
       "0  Air Asia      Mumbai          Kolkata          23:05  07:00\\n+ 1 day   \n",
       "1  Air Asia      Mumbai          Kolkata          20:50  08:15\\n+ 1 day   \n",
       "2  Air Asia      Mumbai          Kolkata          05:55           21:20   \n",
       "3  SpiceJet      Mumbai          Kolkata          05:05           07:40   \n",
       "4  Go First      Mumbai          Kolkata          07:40           10:20   \n",
       "\n",
       "  Duration      Stops  Price      Dates  \n",
       "0   7h 55m     1 Stop  7,410 2021-10-13  \n",
       "1  11h 25m     1 Stop  7,410 2021-10-13  \n",
       "2  15h 25m  2 Stop(s)  7,410 2021-10-13  \n",
       "3   2h 35m   Non Stop  7,412 2021-10-13  \n",
       "4   2h 40m   Non Stop  7,412 2021-10-13  "
      ]
     },
     "execution_count": 17,
     "metadata": {},
     "output_type": "execute_result"
    }
   ],
   "source": [
    "df.head()"
   ]
  },
  {
   "cell_type": "code",
   "execution_count": 18,
   "id": "7928a685",
   "metadata": {},
   "outputs": [],
   "source": [
    "#converting price to float\n",
    "df['Price']= df.Price.str.replace(\",\",\"\")"
   ]
  },
  {
   "cell_type": "code",
   "execution_count": 19,
   "id": "bdaf8777",
   "metadata": {},
   "outputs": [],
   "source": [
    "#lets convert the price to float datatype\n",
    "df['Price']= df['Price'].astype(\"float64\")"
   ]
  },
  {
   "cell_type": "code",
   "execution_count": 20,
   "id": "538b6326",
   "metadata": {},
   "outputs": [
    {
     "data": {
      "text/plain": [
       "Airline                     object\n",
       "Source City                 object\n",
       "Destination City            object\n",
       "Departure Time              object\n",
       "Arrival Time                object\n",
       "Duration                    object\n",
       "Stops                       object\n",
       "Price                      float64\n",
       "Dates               datetime64[ns]\n",
       "dtype: object"
      ]
     },
     "execution_count": 20,
     "metadata": {},
     "output_type": "execute_result"
    }
   ],
   "source": [
    "df.dtypes"
   ]
  },
  {
   "cell_type": "code",
   "execution_count": 21,
   "id": "258cf143",
   "metadata": {},
   "outputs": [],
   "source": [
    "#Converting duration columns to minutes \n",
    "\n",
    "def minutes(x):\n",
    "    hour, minute = x.split(\"h\")\n",
    "    minutes = (60 * int(hour)) + int(minute.strip(\"m\"))\n",
    "    return float(minutes)"
   ]
  },
  {
   "cell_type": "code",
   "execution_count": 22,
   "id": "e452a6c3",
   "metadata": {},
   "outputs": [],
   "source": [
    "#applying the above function\n",
    "df['Duration_in_Minutes'] = df.Duration.apply(minutes)"
   ]
  },
  {
   "cell_type": "code",
   "execution_count": 23,
   "id": "1b61cac1",
   "metadata": {},
   "outputs": [],
   "source": [
    "#dropping the old column\n",
    "df.drop(\"Duration\",axis = 1,inplace= True)"
   ]
  },
  {
   "cell_type": "code",
   "execution_count": 24,
   "id": "73400e19",
   "metadata": {},
   "outputs": [
    {
     "data": {
      "text/plain": [
       "Airline                        object\n",
       "Source City                    object\n",
       "Destination City               object\n",
       "Departure Time                 object\n",
       "Arrival Time                   object\n",
       "Stops                          object\n",
       "Price                         float64\n",
       "Dates                  datetime64[ns]\n",
       "Duration_in_Minutes           float64\n",
       "dtype: object"
      ]
     },
     "execution_count": 24,
     "metadata": {},
     "output_type": "execute_result"
    }
   ],
   "source": [
    "df.dtypes"
   ]
  },
  {
   "cell_type": "code",
   "execution_count": 25,
   "id": "c5a4fac1",
   "metadata": {},
   "outputs": [],
   "source": [
    "def next_day(x):\n",
    "    if \"\\n\" in x:\n",
    "        return \"Yes\"\n",
    "    else:\n",
    "        return \"No\""
   ]
  },
  {
   "cell_type": "code",
   "execution_count": 26,
   "id": "d4755a95",
   "metadata": {},
   "outputs": [],
   "source": [
    "#creating a new column using the existing information \n",
    "#if flight reaches the destination next day i.e after 12 am\n",
    "df[\"Next_day_Arrival\"] = df[\"Arrival Time\"].apply(next_day)"
   ]
  },
  {
   "cell_type": "code",
   "execution_count": 27,
   "id": "b24930ce",
   "metadata": {},
   "outputs": [
    {
     "data": {
      "text/html": [
       "<div>\n",
       "<style scoped>\n",
       "    .dataframe tbody tr th:only-of-type {\n",
       "        vertical-align: middle;\n",
       "    }\n",
       "\n",
       "    .dataframe tbody tr th {\n",
       "        vertical-align: top;\n",
       "    }\n",
       "\n",
       "    .dataframe thead th {\n",
       "        text-align: right;\n",
       "    }\n",
       "</style>\n",
       "<table border=\"1\" class=\"dataframe\">\n",
       "  <thead>\n",
       "    <tr style=\"text-align: right;\">\n",
       "      <th></th>\n",
       "      <th>Airline</th>\n",
       "      <th>Source City</th>\n",
       "      <th>Destination City</th>\n",
       "      <th>Departure Time</th>\n",
       "      <th>Arrival Time</th>\n",
       "      <th>Stops</th>\n",
       "      <th>Price</th>\n",
       "      <th>Dates</th>\n",
       "      <th>Duration_in_Minutes</th>\n",
       "      <th>Next_day_Arrival</th>\n",
       "    </tr>\n",
       "  </thead>\n",
       "  <tbody>\n",
       "    <tr>\n",
       "      <th>0</th>\n",
       "      <td>Air Asia</td>\n",
       "      <td>Mumbai</td>\n",
       "      <td>Kolkata</td>\n",
       "      <td>23:05</td>\n",
       "      <td>07:00\\n+ 1 day</td>\n",
       "      <td>1 Stop</td>\n",
       "      <td>7410.0</td>\n",
       "      <td>2021-10-13</td>\n",
       "      <td>475.0</td>\n",
       "      <td>Yes</td>\n",
       "    </tr>\n",
       "    <tr>\n",
       "      <th>1</th>\n",
       "      <td>Air Asia</td>\n",
       "      <td>Mumbai</td>\n",
       "      <td>Kolkata</td>\n",
       "      <td>20:50</td>\n",
       "      <td>08:15\\n+ 1 day</td>\n",
       "      <td>1 Stop</td>\n",
       "      <td>7410.0</td>\n",
       "      <td>2021-10-13</td>\n",
       "      <td>685.0</td>\n",
       "      <td>Yes</td>\n",
       "    </tr>\n",
       "    <tr>\n",
       "      <th>2</th>\n",
       "      <td>Air Asia</td>\n",
       "      <td>Mumbai</td>\n",
       "      <td>Kolkata</td>\n",
       "      <td>05:55</td>\n",
       "      <td>21:20</td>\n",
       "      <td>2 Stop(s)</td>\n",
       "      <td>7410.0</td>\n",
       "      <td>2021-10-13</td>\n",
       "      <td>925.0</td>\n",
       "      <td>No</td>\n",
       "    </tr>\n",
       "    <tr>\n",
       "      <th>3</th>\n",
       "      <td>SpiceJet</td>\n",
       "      <td>Mumbai</td>\n",
       "      <td>Kolkata</td>\n",
       "      <td>05:05</td>\n",
       "      <td>07:40</td>\n",
       "      <td>Non Stop</td>\n",
       "      <td>7412.0</td>\n",
       "      <td>2021-10-13</td>\n",
       "      <td>155.0</td>\n",
       "      <td>No</td>\n",
       "    </tr>\n",
       "    <tr>\n",
       "      <th>4</th>\n",
       "      <td>Go First</td>\n",
       "      <td>Mumbai</td>\n",
       "      <td>Kolkata</td>\n",
       "      <td>07:40</td>\n",
       "      <td>10:20</td>\n",
       "      <td>Non Stop</td>\n",
       "      <td>7412.0</td>\n",
       "      <td>2021-10-13</td>\n",
       "      <td>160.0</td>\n",
       "      <td>No</td>\n",
       "    </tr>\n",
       "  </tbody>\n",
       "</table>\n",
       "</div>"
      ],
      "text/plain": [
       "    Airline Source City Destination City Departure Time    Arrival Time  \\\n",
       "0  Air Asia      Mumbai          Kolkata          23:05  07:00\\n+ 1 day   \n",
       "1  Air Asia      Mumbai          Kolkata          20:50  08:15\\n+ 1 day   \n",
       "2  Air Asia      Mumbai          Kolkata          05:55           21:20   \n",
       "3  SpiceJet      Mumbai          Kolkata          05:05           07:40   \n",
       "4  Go First      Mumbai          Kolkata          07:40           10:20   \n",
       "\n",
       "       Stops   Price      Dates  Duration_in_Minutes Next_day_Arrival  \n",
       "0     1 Stop  7410.0 2021-10-13                475.0              Yes  \n",
       "1     1 Stop  7410.0 2021-10-13                685.0              Yes  \n",
       "2  2 Stop(s)  7410.0 2021-10-13                925.0               No  \n",
       "3   Non Stop  7412.0 2021-10-13                155.0               No  \n",
       "4   Non Stop  7412.0 2021-10-13                160.0               No  "
      ]
     },
     "execution_count": 27,
     "metadata": {},
     "output_type": "execute_result"
    }
   ],
   "source": [
    "df.head()"
   ]
  },
  {
   "cell_type": "code",
   "execution_count": 28,
   "id": "55345a12",
   "metadata": {},
   "outputs": [],
   "source": [
    "import re\n",
    "def Arrival(x):\n",
    "    a = re.search(r\"\\d\\d:\\d\\d\",x)\n",
    "    return a.group()"
   ]
  },
  {
   "cell_type": "code",
   "execution_count": 29,
   "id": "704bb781",
   "metadata": {},
   "outputs": [],
   "source": [
    "\n",
    "#removing the \"\\n+1 day\" from arrival date\n",
    "df[\"Arrival_Time\"] = df[\"Arrival Time\"].apply(Arrival)"
   ]
  },
  {
   "cell_type": "code",
   "execution_count": 30,
   "id": "35508d22",
   "metadata": {},
   "outputs": [
    {
     "data": {
      "text/html": [
       "<div>\n",
       "<style scoped>\n",
       "    .dataframe tbody tr th:only-of-type {\n",
       "        vertical-align: middle;\n",
       "    }\n",
       "\n",
       "    .dataframe tbody tr th {\n",
       "        vertical-align: top;\n",
       "    }\n",
       "\n",
       "    .dataframe thead th {\n",
       "        text-align: right;\n",
       "    }\n",
       "</style>\n",
       "<table border=\"1\" class=\"dataframe\">\n",
       "  <thead>\n",
       "    <tr style=\"text-align: right;\">\n",
       "      <th></th>\n",
       "      <th>Airline</th>\n",
       "      <th>Source City</th>\n",
       "      <th>Destination City</th>\n",
       "      <th>Departure Time</th>\n",
       "      <th>Stops</th>\n",
       "      <th>Price</th>\n",
       "      <th>Dates</th>\n",
       "      <th>Duration_in_Minutes</th>\n",
       "      <th>Next_day_Arrival</th>\n",
       "      <th>Arrival_Time</th>\n",
       "    </tr>\n",
       "  </thead>\n",
       "  <tbody>\n",
       "    <tr>\n",
       "      <th>0</th>\n",
       "      <td>Air Asia</td>\n",
       "      <td>Mumbai</td>\n",
       "      <td>Kolkata</td>\n",
       "      <td>23:05</td>\n",
       "      <td>1 Stop</td>\n",
       "      <td>7410.0</td>\n",
       "      <td>2021-10-13</td>\n",
       "      <td>475.0</td>\n",
       "      <td>Yes</td>\n",
       "      <td>07:00</td>\n",
       "    </tr>\n",
       "    <tr>\n",
       "      <th>1</th>\n",
       "      <td>Air Asia</td>\n",
       "      <td>Mumbai</td>\n",
       "      <td>Kolkata</td>\n",
       "      <td>20:50</td>\n",
       "      <td>1 Stop</td>\n",
       "      <td>7410.0</td>\n",
       "      <td>2021-10-13</td>\n",
       "      <td>685.0</td>\n",
       "      <td>Yes</td>\n",
       "      <td>08:15</td>\n",
       "    </tr>\n",
       "    <tr>\n",
       "      <th>2</th>\n",
       "      <td>Air Asia</td>\n",
       "      <td>Mumbai</td>\n",
       "      <td>Kolkata</td>\n",
       "      <td>05:55</td>\n",
       "      <td>2 Stop(s)</td>\n",
       "      <td>7410.0</td>\n",
       "      <td>2021-10-13</td>\n",
       "      <td>925.0</td>\n",
       "      <td>No</td>\n",
       "      <td>21:20</td>\n",
       "    </tr>\n",
       "    <tr>\n",
       "      <th>3</th>\n",
       "      <td>SpiceJet</td>\n",
       "      <td>Mumbai</td>\n",
       "      <td>Kolkata</td>\n",
       "      <td>05:05</td>\n",
       "      <td>Non Stop</td>\n",
       "      <td>7412.0</td>\n",
       "      <td>2021-10-13</td>\n",
       "      <td>155.0</td>\n",
       "      <td>No</td>\n",
       "      <td>07:40</td>\n",
       "    </tr>\n",
       "    <tr>\n",
       "      <th>4</th>\n",
       "      <td>Go First</td>\n",
       "      <td>Mumbai</td>\n",
       "      <td>Kolkata</td>\n",
       "      <td>07:40</td>\n",
       "      <td>Non Stop</td>\n",
       "      <td>7412.0</td>\n",
       "      <td>2021-10-13</td>\n",
       "      <td>160.0</td>\n",
       "      <td>No</td>\n",
       "      <td>10:20</td>\n",
       "    </tr>\n",
       "  </tbody>\n",
       "</table>\n",
       "</div>"
      ],
      "text/plain": [
       "    Airline Source City Destination City Departure Time      Stops   Price  \\\n",
       "0  Air Asia      Mumbai          Kolkata          23:05     1 Stop  7410.0   \n",
       "1  Air Asia      Mumbai          Kolkata          20:50     1 Stop  7410.0   \n",
       "2  Air Asia      Mumbai          Kolkata          05:55  2 Stop(s)  7410.0   \n",
       "3  SpiceJet      Mumbai          Kolkata          05:05   Non Stop  7412.0   \n",
       "4  Go First      Mumbai          Kolkata          07:40   Non Stop  7412.0   \n",
       "\n",
       "       Dates  Duration_in_Minutes Next_day_Arrival Arrival_Time  \n",
       "0 2021-10-13                475.0              Yes        07:00  \n",
       "1 2021-10-13                685.0              Yes        08:15  \n",
       "2 2021-10-13                925.0               No        21:20  \n",
       "3 2021-10-13                155.0               No        07:40  \n",
       "4 2021-10-13                160.0               No        10:20  "
      ]
     },
     "execution_count": 30,
     "metadata": {},
     "output_type": "execute_result"
    }
   ],
   "source": [
    "#dropping the old column\n",
    "df.drop(\"Arrival Time\",axis = 1,inplace = True)\n",
    "df.head()"
   ]
  },
  {
   "cell_type": "code",
   "execution_count": 31,
   "id": "fa7b3178",
   "metadata": {},
   "outputs": [],
   "source": [
    "#lets extract the departure hour from deaprture time column\n",
    "df[\"Depature_hour\"] = pd.to_datetime(df[\"Departure Time\"])\n",
    "df[\"Depature_hour\"] = pd.DatetimeIndex(df['Depature_hour']).hour"
   ]
  },
  {
   "cell_type": "code",
   "execution_count": 32,
   "id": "d971b00b",
   "metadata": {},
   "outputs": [],
   "source": [
    "#lets extract the Arrival hour from Arrival time column\n",
    "df[\"Arrival_hour\"] = pd.to_datetime(df[\"Arrival_Time\"])\n",
    "df[\"Arrival_hour\"] = pd.DatetimeIndex(df['Arrival_hour']).hour"
   ]
  },
  {
   "cell_type": "code",
   "execution_count": 33,
   "id": "10f10fb2",
   "metadata": {},
   "outputs": [
    {
     "data": {
      "text/html": [
       "<div>\n",
       "<style scoped>\n",
       "    .dataframe tbody tr th:only-of-type {\n",
       "        vertical-align: middle;\n",
       "    }\n",
       "\n",
       "    .dataframe tbody tr th {\n",
       "        vertical-align: top;\n",
       "    }\n",
       "\n",
       "    .dataframe thead th {\n",
       "        text-align: right;\n",
       "    }\n",
       "</style>\n",
       "<table border=\"1\" class=\"dataframe\">\n",
       "  <thead>\n",
       "    <tr style=\"text-align: right;\">\n",
       "      <th></th>\n",
       "      <th>Airline</th>\n",
       "      <th>Source City</th>\n",
       "      <th>Destination City</th>\n",
       "      <th>Departure Time</th>\n",
       "      <th>Stops</th>\n",
       "      <th>Price</th>\n",
       "      <th>Dates</th>\n",
       "      <th>Duration_in_Minutes</th>\n",
       "      <th>Next_day_Arrival</th>\n",
       "      <th>Arrival_Time</th>\n",
       "      <th>Depature_hour</th>\n",
       "      <th>Arrival_hour</th>\n",
       "    </tr>\n",
       "  </thead>\n",
       "  <tbody>\n",
       "    <tr>\n",
       "      <th>0</th>\n",
       "      <td>Air Asia</td>\n",
       "      <td>Mumbai</td>\n",
       "      <td>Kolkata</td>\n",
       "      <td>23:05</td>\n",
       "      <td>1 Stop</td>\n",
       "      <td>7410.0</td>\n",
       "      <td>2021-10-13</td>\n",
       "      <td>475.0</td>\n",
       "      <td>Yes</td>\n",
       "      <td>07:00</td>\n",
       "      <td>23</td>\n",
       "      <td>7</td>\n",
       "    </tr>\n",
       "    <tr>\n",
       "      <th>1</th>\n",
       "      <td>Air Asia</td>\n",
       "      <td>Mumbai</td>\n",
       "      <td>Kolkata</td>\n",
       "      <td>20:50</td>\n",
       "      <td>1 Stop</td>\n",
       "      <td>7410.0</td>\n",
       "      <td>2021-10-13</td>\n",
       "      <td>685.0</td>\n",
       "      <td>Yes</td>\n",
       "      <td>08:15</td>\n",
       "      <td>20</td>\n",
       "      <td>8</td>\n",
       "    </tr>\n",
       "    <tr>\n",
       "      <th>2</th>\n",
       "      <td>Air Asia</td>\n",
       "      <td>Mumbai</td>\n",
       "      <td>Kolkata</td>\n",
       "      <td>05:55</td>\n",
       "      <td>2 Stop(s)</td>\n",
       "      <td>7410.0</td>\n",
       "      <td>2021-10-13</td>\n",
       "      <td>925.0</td>\n",
       "      <td>No</td>\n",
       "      <td>21:20</td>\n",
       "      <td>5</td>\n",
       "      <td>21</td>\n",
       "    </tr>\n",
       "    <tr>\n",
       "      <th>3</th>\n",
       "      <td>SpiceJet</td>\n",
       "      <td>Mumbai</td>\n",
       "      <td>Kolkata</td>\n",
       "      <td>05:05</td>\n",
       "      <td>Non Stop</td>\n",
       "      <td>7412.0</td>\n",
       "      <td>2021-10-13</td>\n",
       "      <td>155.0</td>\n",
       "      <td>No</td>\n",
       "      <td>07:40</td>\n",
       "      <td>5</td>\n",
       "      <td>7</td>\n",
       "    </tr>\n",
       "    <tr>\n",
       "      <th>4</th>\n",
       "      <td>Go First</td>\n",
       "      <td>Mumbai</td>\n",
       "      <td>Kolkata</td>\n",
       "      <td>07:40</td>\n",
       "      <td>Non Stop</td>\n",
       "      <td>7412.0</td>\n",
       "      <td>2021-10-13</td>\n",
       "      <td>160.0</td>\n",
       "      <td>No</td>\n",
       "      <td>10:20</td>\n",
       "      <td>7</td>\n",
       "      <td>10</td>\n",
       "    </tr>\n",
       "  </tbody>\n",
       "</table>\n",
       "</div>"
      ],
      "text/plain": [
       "    Airline Source City Destination City Departure Time      Stops   Price  \\\n",
       "0  Air Asia      Mumbai          Kolkata          23:05     1 Stop  7410.0   \n",
       "1  Air Asia      Mumbai          Kolkata          20:50     1 Stop  7410.0   \n",
       "2  Air Asia      Mumbai          Kolkata          05:55  2 Stop(s)  7410.0   \n",
       "3  SpiceJet      Mumbai          Kolkata          05:05   Non Stop  7412.0   \n",
       "4  Go First      Mumbai          Kolkata          07:40   Non Stop  7412.0   \n",
       "\n",
       "       Dates  Duration_in_Minutes Next_day_Arrival Arrival_Time  \\\n",
       "0 2021-10-13                475.0              Yes        07:00   \n",
       "1 2021-10-13                685.0              Yes        08:15   \n",
       "2 2021-10-13                925.0               No        21:20   \n",
       "3 2021-10-13                155.0               No        07:40   \n",
       "4 2021-10-13                160.0               No        10:20   \n",
       "\n",
       "   Depature_hour  Arrival_hour  \n",
       "0             23             7  \n",
       "1             20             8  \n",
       "2              5            21  \n",
       "3              5             7  \n",
       "4              7            10  "
      ]
     },
     "execution_count": 33,
     "metadata": {},
     "output_type": "execute_result"
    }
   ],
   "source": [
    "df.head()"
   ]
  },
  {
   "cell_type": "code",
   "execution_count": 34,
   "id": "0b4308b1",
   "metadata": {},
   "outputs": [],
   "source": [
    "#now lets drop Arrival_time and deapture time\n",
    "df.drop([\"Arrival_Time\",\"Departure Time\"],axis =1, inplace = True)"
   ]
  },
  {
   "cell_type": "code",
   "execution_count": 35,
   "id": "59c2a087",
   "metadata": {},
   "outputs": [
    {
     "data": {
      "text/html": [
       "<div>\n",
       "<style scoped>\n",
       "    .dataframe tbody tr th:only-of-type {\n",
       "        vertical-align: middle;\n",
       "    }\n",
       "\n",
       "    .dataframe tbody tr th {\n",
       "        vertical-align: top;\n",
       "    }\n",
       "\n",
       "    .dataframe thead th {\n",
       "        text-align: right;\n",
       "    }\n",
       "</style>\n",
       "<table border=\"1\" class=\"dataframe\">\n",
       "  <thead>\n",
       "    <tr style=\"text-align: right;\">\n",
       "      <th></th>\n",
       "      <th>Airline</th>\n",
       "      <th>Source City</th>\n",
       "      <th>Destination City</th>\n",
       "      <th>Stops</th>\n",
       "      <th>Price</th>\n",
       "      <th>Dates</th>\n",
       "      <th>Duration_in_Minutes</th>\n",
       "      <th>Next_day_Arrival</th>\n",
       "      <th>Depature_hour</th>\n",
       "      <th>Arrival_hour</th>\n",
       "    </tr>\n",
       "  </thead>\n",
       "  <tbody>\n",
       "    <tr>\n",
       "      <th>0</th>\n",
       "      <td>Air Asia</td>\n",
       "      <td>Mumbai</td>\n",
       "      <td>Kolkata</td>\n",
       "      <td>1 Stop</td>\n",
       "      <td>7410.0</td>\n",
       "      <td>2021-10-13</td>\n",
       "      <td>475.0</td>\n",
       "      <td>Yes</td>\n",
       "      <td>23</td>\n",
       "      <td>7</td>\n",
       "    </tr>\n",
       "    <tr>\n",
       "      <th>1</th>\n",
       "      <td>Air Asia</td>\n",
       "      <td>Mumbai</td>\n",
       "      <td>Kolkata</td>\n",
       "      <td>1 Stop</td>\n",
       "      <td>7410.0</td>\n",
       "      <td>2021-10-13</td>\n",
       "      <td>685.0</td>\n",
       "      <td>Yes</td>\n",
       "      <td>20</td>\n",
       "      <td>8</td>\n",
       "    </tr>\n",
       "    <tr>\n",
       "      <th>2</th>\n",
       "      <td>Air Asia</td>\n",
       "      <td>Mumbai</td>\n",
       "      <td>Kolkata</td>\n",
       "      <td>2 Stop(s)</td>\n",
       "      <td>7410.0</td>\n",
       "      <td>2021-10-13</td>\n",
       "      <td>925.0</td>\n",
       "      <td>No</td>\n",
       "      <td>5</td>\n",
       "      <td>21</td>\n",
       "    </tr>\n",
       "    <tr>\n",
       "      <th>3</th>\n",
       "      <td>SpiceJet</td>\n",
       "      <td>Mumbai</td>\n",
       "      <td>Kolkata</td>\n",
       "      <td>Non Stop</td>\n",
       "      <td>7412.0</td>\n",
       "      <td>2021-10-13</td>\n",
       "      <td>155.0</td>\n",
       "      <td>No</td>\n",
       "      <td>5</td>\n",
       "      <td>7</td>\n",
       "    </tr>\n",
       "    <tr>\n",
       "      <th>4</th>\n",
       "      <td>Go First</td>\n",
       "      <td>Mumbai</td>\n",
       "      <td>Kolkata</td>\n",
       "      <td>Non Stop</td>\n",
       "      <td>7412.0</td>\n",
       "      <td>2021-10-13</td>\n",
       "      <td>160.0</td>\n",
       "      <td>No</td>\n",
       "      <td>7</td>\n",
       "      <td>10</td>\n",
       "    </tr>\n",
       "  </tbody>\n",
       "</table>\n",
       "</div>"
      ],
      "text/plain": [
       "    Airline Source City Destination City      Stops   Price      Dates  \\\n",
       "0  Air Asia      Mumbai          Kolkata     1 Stop  7410.0 2021-10-13   \n",
       "1  Air Asia      Mumbai          Kolkata     1 Stop  7410.0 2021-10-13   \n",
       "2  Air Asia      Mumbai          Kolkata  2 Stop(s)  7410.0 2021-10-13   \n",
       "3  SpiceJet      Mumbai          Kolkata   Non Stop  7412.0 2021-10-13   \n",
       "4  Go First      Mumbai          Kolkata   Non Stop  7412.0 2021-10-13   \n",
       "\n",
       "   Duration_in_Minutes Next_day_Arrival  Depature_hour  Arrival_hour  \n",
       "0                475.0              Yes             23             7  \n",
       "1                685.0              Yes             20             8  \n",
       "2                925.0               No              5            21  \n",
       "3                155.0               No              5             7  \n",
       "4                160.0               No              7            10  "
      ]
     },
     "execution_count": 35,
     "metadata": {},
     "output_type": "execute_result"
    }
   ],
   "source": [
    "df.head()"
   ]
  },
  {
   "cell_type": "code",
   "execution_count": 36,
   "id": "84a4de2f",
   "metadata": {},
   "outputs": [],
   "source": [
    "#lets extract the time of the day from this column Dep_hour and Arrival_hour column\n",
    "#lets write a function for this\n",
    "def part_of_the_day(x):\n",
    "    if (x > 4) and (x <= 8):\n",
    "        return 'Early Morning'\n",
    "    elif (x > 8) and (x <= 12 ):\n",
    "        return 'Morning'\n",
    "    elif (x > 12) and (x <= 16):\n",
    "        return'Noon'\n",
    "    elif (x > 16) and (x <= 20) :\n",
    "        return 'Eve'\n",
    "    elif (x > 20) and (x <= 24):\n",
    "        return'Night'\n",
    "    elif (x <= 4):\n",
    "        return'Late Night'"
   ]
  },
  {
   "cell_type": "code",
   "execution_count": 37,
   "id": "4b05329a",
   "metadata": {},
   "outputs": [],
   "source": [
    "#applying the above fuction to get part of the day column\n",
    "df['Departure_Part_of_the_day'] = df.Depature_hour.apply(part_of_the_day)"
   ]
  },
  {
   "cell_type": "code",
   "execution_count": 38,
   "id": "4e3001b3",
   "metadata": {},
   "outputs": [],
   "source": [
    "#applying the above fuction to get part of the day column\n",
    "df['Arrival_Part_of_the_day'] = df.Arrival_hour.apply(part_of_the_day)"
   ]
  },
  {
   "cell_type": "code",
   "execution_count": 39,
   "id": "b363bb12",
   "metadata": {},
   "outputs": [
    {
     "data": {
      "text/html": [
       "<div>\n",
       "<style scoped>\n",
       "    .dataframe tbody tr th:only-of-type {\n",
       "        vertical-align: middle;\n",
       "    }\n",
       "\n",
       "    .dataframe tbody tr th {\n",
       "        vertical-align: top;\n",
       "    }\n",
       "\n",
       "    .dataframe thead th {\n",
       "        text-align: right;\n",
       "    }\n",
       "</style>\n",
       "<table border=\"1\" class=\"dataframe\">\n",
       "  <thead>\n",
       "    <tr style=\"text-align: right;\">\n",
       "      <th></th>\n",
       "      <th>Airline</th>\n",
       "      <th>Source City</th>\n",
       "      <th>Destination City</th>\n",
       "      <th>Stops</th>\n",
       "      <th>Price</th>\n",
       "      <th>Dates</th>\n",
       "      <th>Duration_in_Minutes</th>\n",
       "      <th>Next_day_Arrival</th>\n",
       "      <th>Depature_hour</th>\n",
       "      <th>Arrival_hour</th>\n",
       "      <th>Departure_Part_of_the_day</th>\n",
       "      <th>Arrival_Part_of_the_day</th>\n",
       "    </tr>\n",
       "  </thead>\n",
       "  <tbody>\n",
       "    <tr>\n",
       "      <th>0</th>\n",
       "      <td>Air Asia</td>\n",
       "      <td>Mumbai</td>\n",
       "      <td>Kolkata</td>\n",
       "      <td>1 Stop</td>\n",
       "      <td>7410.0</td>\n",
       "      <td>2021-10-13</td>\n",
       "      <td>475.0</td>\n",
       "      <td>Yes</td>\n",
       "      <td>23</td>\n",
       "      <td>7</td>\n",
       "      <td>Night</td>\n",
       "      <td>Early Morning</td>\n",
       "    </tr>\n",
       "    <tr>\n",
       "      <th>1</th>\n",
       "      <td>Air Asia</td>\n",
       "      <td>Mumbai</td>\n",
       "      <td>Kolkata</td>\n",
       "      <td>1 Stop</td>\n",
       "      <td>7410.0</td>\n",
       "      <td>2021-10-13</td>\n",
       "      <td>685.0</td>\n",
       "      <td>Yes</td>\n",
       "      <td>20</td>\n",
       "      <td>8</td>\n",
       "      <td>Eve</td>\n",
       "      <td>Early Morning</td>\n",
       "    </tr>\n",
       "    <tr>\n",
       "      <th>2</th>\n",
       "      <td>Air Asia</td>\n",
       "      <td>Mumbai</td>\n",
       "      <td>Kolkata</td>\n",
       "      <td>2 Stop(s)</td>\n",
       "      <td>7410.0</td>\n",
       "      <td>2021-10-13</td>\n",
       "      <td>925.0</td>\n",
       "      <td>No</td>\n",
       "      <td>5</td>\n",
       "      <td>21</td>\n",
       "      <td>Early Morning</td>\n",
       "      <td>Night</td>\n",
       "    </tr>\n",
       "    <tr>\n",
       "      <th>3</th>\n",
       "      <td>SpiceJet</td>\n",
       "      <td>Mumbai</td>\n",
       "      <td>Kolkata</td>\n",
       "      <td>Non Stop</td>\n",
       "      <td>7412.0</td>\n",
       "      <td>2021-10-13</td>\n",
       "      <td>155.0</td>\n",
       "      <td>No</td>\n",
       "      <td>5</td>\n",
       "      <td>7</td>\n",
       "      <td>Early Morning</td>\n",
       "      <td>Early Morning</td>\n",
       "    </tr>\n",
       "    <tr>\n",
       "      <th>4</th>\n",
       "      <td>Go First</td>\n",
       "      <td>Mumbai</td>\n",
       "      <td>Kolkata</td>\n",
       "      <td>Non Stop</td>\n",
       "      <td>7412.0</td>\n",
       "      <td>2021-10-13</td>\n",
       "      <td>160.0</td>\n",
       "      <td>No</td>\n",
       "      <td>7</td>\n",
       "      <td>10</td>\n",
       "      <td>Early Morning</td>\n",
       "      <td>Morning</td>\n",
       "    </tr>\n",
       "  </tbody>\n",
       "</table>\n",
       "</div>"
      ],
      "text/plain": [
       "    Airline Source City Destination City      Stops   Price      Dates  \\\n",
       "0  Air Asia      Mumbai          Kolkata     1 Stop  7410.0 2021-10-13   \n",
       "1  Air Asia      Mumbai          Kolkata     1 Stop  7410.0 2021-10-13   \n",
       "2  Air Asia      Mumbai          Kolkata  2 Stop(s)  7410.0 2021-10-13   \n",
       "3  SpiceJet      Mumbai          Kolkata   Non Stop  7412.0 2021-10-13   \n",
       "4  Go First      Mumbai          Kolkata   Non Stop  7412.0 2021-10-13   \n",
       "\n",
       "   Duration_in_Minutes Next_day_Arrival  Depature_hour  Arrival_hour  \\\n",
       "0                475.0              Yes             23             7   \n",
       "1                685.0              Yes             20             8   \n",
       "2                925.0               No              5            21   \n",
       "3                155.0               No              5             7   \n",
       "4                160.0               No              7            10   \n",
       "\n",
       "  Departure_Part_of_the_day Arrival_Part_of_the_day  \n",
       "0                     Night           Early Morning  \n",
       "1                       Eve           Early Morning  \n",
       "2             Early Morning                   Night  \n",
       "3             Early Morning           Early Morning  \n",
       "4             Early Morning                 Morning  "
      ]
     },
     "execution_count": 39,
     "metadata": {},
     "output_type": "execute_result"
    }
   ],
   "source": [
    "df.head()"
   ]
  },
  {
   "cell_type": "code",
   "execution_count": 272,
   "id": "f57a08c2",
   "metadata": {},
   "outputs": [],
   "source": [
    "#now lets drop Arrival_hour and deapture_hour\n",
    "df.drop([\"Arrival_hour\",\"Depature_hour\"],axis =1, inplace = True)"
   ]
  },
  {
   "cell_type": "code",
   "execution_count": 273,
   "id": "e893ce36",
   "metadata": {},
   "outputs": [
    {
     "data": {
      "text/html": [
       "<div>\n",
       "<style scoped>\n",
       "    .dataframe tbody tr th:only-of-type {\n",
       "        vertical-align: middle;\n",
       "    }\n",
       "\n",
       "    .dataframe tbody tr th {\n",
       "        vertical-align: top;\n",
       "    }\n",
       "\n",
       "    .dataframe thead th {\n",
       "        text-align: right;\n",
       "    }\n",
       "</style>\n",
       "<table border=\"1\" class=\"dataframe\">\n",
       "  <thead>\n",
       "    <tr style=\"text-align: right;\">\n",
       "      <th></th>\n",
       "      <th>Airline</th>\n",
       "      <th>Source City</th>\n",
       "      <th>Destination City</th>\n",
       "      <th>Stops</th>\n",
       "      <th>Price</th>\n",
       "      <th>Dates</th>\n",
       "      <th>Duration_in_Minutes</th>\n",
       "      <th>Next_day_Arrival</th>\n",
       "      <th>Departure_Part_of_the_day</th>\n",
       "      <th>Arrival_Part_of_the_day</th>\n",
       "    </tr>\n",
       "  </thead>\n",
       "  <tbody>\n",
       "    <tr>\n",
       "      <th>0</th>\n",
       "      <td>Go First</td>\n",
       "      <td>New Delhi</td>\n",
       "      <td>Bangalore</td>\n",
       "      <td>Non Stop</td>\n",
       "      <td>7424.0</td>\n",
       "      <td>2021-10-09</td>\n",
       "      <td>155.0</td>\n",
       "      <td>No</td>\n",
       "      <td>Eve</td>\n",
       "      <td>Night</td>\n",
       "    </tr>\n",
       "    <tr>\n",
       "      <th>1</th>\n",
       "      <td>Go First</td>\n",
       "      <td>New Delhi</td>\n",
       "      <td>Bangalore</td>\n",
       "      <td>1 Stop</td>\n",
       "      <td>7424.0</td>\n",
       "      <td>2021-10-09</td>\n",
       "      <td>540.0</td>\n",
       "      <td>Yes</td>\n",
       "      <td>Night</td>\n",
       "      <td>Early Morning</td>\n",
       "    </tr>\n",
       "    <tr>\n",
       "      <th>2</th>\n",
       "      <td>Vistara</td>\n",
       "      <td>New Delhi</td>\n",
       "      <td>Bangalore</td>\n",
       "      <td>Non Stop</td>\n",
       "      <td>7425.0</td>\n",
       "      <td>2021-10-09</td>\n",
       "      <td>160.0</td>\n",
       "      <td>No</td>\n",
       "      <td>Eve</td>\n",
       "      <td>Night</td>\n",
       "    </tr>\n",
       "    <tr>\n",
       "      <th>3</th>\n",
       "      <td>SpiceJet</td>\n",
       "      <td>New Delhi</td>\n",
       "      <td>Bangalore</td>\n",
       "      <td>Non Stop</td>\n",
       "      <td>7425.0</td>\n",
       "      <td>2021-10-09</td>\n",
       "      <td>165.0</td>\n",
       "      <td>Yes</td>\n",
       "      <td>Night</td>\n",
       "      <td>Late Night</td>\n",
       "    </tr>\n",
       "    <tr>\n",
       "      <th>4</th>\n",
       "      <td>IndiGo</td>\n",
       "      <td>New Delhi</td>\n",
       "      <td>Bangalore</td>\n",
       "      <td>Non Stop</td>\n",
       "      <td>7425.0</td>\n",
       "      <td>2021-10-09</td>\n",
       "      <td>165.0</td>\n",
       "      <td>Yes</td>\n",
       "      <td>Night</td>\n",
       "      <td>Late Night</td>\n",
       "    </tr>\n",
       "  </tbody>\n",
       "</table>\n",
       "</div>"
      ],
      "text/plain": [
       "    Airline Source City Destination City     Stops   Price      Dates  \\\n",
       "0  Go First   New Delhi        Bangalore  Non Stop  7424.0 2021-10-09   \n",
       "1  Go First   New Delhi        Bangalore    1 Stop  7424.0 2021-10-09   \n",
       "2   Vistara   New Delhi        Bangalore  Non Stop  7425.0 2021-10-09   \n",
       "3  SpiceJet   New Delhi        Bangalore  Non Stop  7425.0 2021-10-09   \n",
       "4    IndiGo   New Delhi        Bangalore  Non Stop  7425.0 2021-10-09   \n",
       "\n",
       "   Duration_in_Minutes Next_day_Arrival Departure_Part_of_the_day  \\\n",
       "0                155.0               No                       Eve   \n",
       "1                540.0              Yes                     Night   \n",
       "2                160.0               No                       Eve   \n",
       "3                165.0              Yes                     Night   \n",
       "4                165.0              Yes                     Night   \n",
       "\n",
       "  Arrival_Part_of_the_day  \n",
       "0                   Night  \n",
       "1           Early Morning  \n",
       "2                   Night  \n",
       "3              Late Night  \n",
       "4              Late Night  "
      ]
     },
     "execution_count": 273,
     "metadata": {},
     "output_type": "execute_result"
    }
   ],
   "source": [
    "df.head()"
   ]
  },
  {
   "cell_type": "code",
   "execution_count": 40,
   "id": "851aa10d",
   "metadata": {},
   "outputs": [],
   "source": [
    "\n",
    "#exatrcting week number\n",
    "df[\"week_num\"] = pd.DatetimeIndex(df[\"Dates\"]).weekday"
   ]
  },
  {
   "cell_type": "code",
   "execution_count": 41,
   "id": "c736722c",
   "metadata": {},
   "outputs": [],
   "source": [
    "#from Dates column we can extarct day and days prior to booking\n",
    "\n",
    "def day(x):\n",
    "    if x == 0:\n",
    "        return \"Monday\"\n",
    "    elif x == 1:\n",
    "        return \"Tuesday\"\n",
    "    elif x == 2:\n",
    "        return \"Wednesday\"\n",
    "    elif x == 3:\n",
    "        return \"Thursday\"\n",
    "    elif x == 4:\n",
    "        return \"Friday\"\n",
    "    elif x == 5:\n",
    "        return \"Saturday\"\n",
    "    elif x == 6:\n",
    "        return \"Sunday\""
   ]
  },
  {
   "cell_type": "code",
   "execution_count": 42,
   "id": "f2df5d82",
   "metadata": {},
   "outputs": [],
   "source": [
    "#extracting the day of the week\n",
    "df[\"Day\"] = df[\"week_num\"].apply(day)"
   ]
  },
  {
   "cell_type": "code",
   "execution_count": 43,
   "id": "c135052e",
   "metadata": {},
   "outputs": [
    {
     "data": {
      "text/html": [
       "<div>\n",
       "<style scoped>\n",
       "    .dataframe tbody tr th:only-of-type {\n",
       "        vertical-align: middle;\n",
       "    }\n",
       "\n",
       "    .dataframe tbody tr th {\n",
       "        vertical-align: top;\n",
       "    }\n",
       "\n",
       "    .dataframe thead th {\n",
       "        text-align: right;\n",
       "    }\n",
       "</style>\n",
       "<table border=\"1\" class=\"dataframe\">\n",
       "  <thead>\n",
       "    <tr style=\"text-align: right;\">\n",
       "      <th></th>\n",
       "      <th>Airline</th>\n",
       "      <th>Source City</th>\n",
       "      <th>Destination City</th>\n",
       "      <th>Stops</th>\n",
       "      <th>Price</th>\n",
       "      <th>Dates</th>\n",
       "      <th>Duration_in_Minutes</th>\n",
       "      <th>Next_day_Arrival</th>\n",
       "      <th>Depature_hour</th>\n",
       "      <th>Arrival_hour</th>\n",
       "      <th>Departure_Part_of_the_day</th>\n",
       "      <th>Arrival_Part_of_the_day</th>\n",
       "      <th>week_num</th>\n",
       "      <th>Day</th>\n",
       "    </tr>\n",
       "  </thead>\n",
       "  <tbody>\n",
       "    <tr>\n",
       "      <th>0</th>\n",
       "      <td>Air Asia</td>\n",
       "      <td>Mumbai</td>\n",
       "      <td>Kolkata</td>\n",
       "      <td>1 Stop</td>\n",
       "      <td>7410.0</td>\n",
       "      <td>2021-10-13</td>\n",
       "      <td>475.0</td>\n",
       "      <td>Yes</td>\n",
       "      <td>23</td>\n",
       "      <td>7</td>\n",
       "      <td>Night</td>\n",
       "      <td>Early Morning</td>\n",
       "      <td>2</td>\n",
       "      <td>Wednesday</td>\n",
       "    </tr>\n",
       "    <tr>\n",
       "      <th>1</th>\n",
       "      <td>Air Asia</td>\n",
       "      <td>Mumbai</td>\n",
       "      <td>Kolkata</td>\n",
       "      <td>1 Stop</td>\n",
       "      <td>7410.0</td>\n",
       "      <td>2021-10-13</td>\n",
       "      <td>685.0</td>\n",
       "      <td>Yes</td>\n",
       "      <td>20</td>\n",
       "      <td>8</td>\n",
       "      <td>Eve</td>\n",
       "      <td>Early Morning</td>\n",
       "      <td>2</td>\n",
       "      <td>Wednesday</td>\n",
       "    </tr>\n",
       "    <tr>\n",
       "      <th>2</th>\n",
       "      <td>Air Asia</td>\n",
       "      <td>Mumbai</td>\n",
       "      <td>Kolkata</td>\n",
       "      <td>2 Stop(s)</td>\n",
       "      <td>7410.0</td>\n",
       "      <td>2021-10-13</td>\n",
       "      <td>925.0</td>\n",
       "      <td>No</td>\n",
       "      <td>5</td>\n",
       "      <td>21</td>\n",
       "      <td>Early Morning</td>\n",
       "      <td>Night</td>\n",
       "      <td>2</td>\n",
       "      <td>Wednesday</td>\n",
       "    </tr>\n",
       "    <tr>\n",
       "      <th>3</th>\n",
       "      <td>SpiceJet</td>\n",
       "      <td>Mumbai</td>\n",
       "      <td>Kolkata</td>\n",
       "      <td>Non Stop</td>\n",
       "      <td>7412.0</td>\n",
       "      <td>2021-10-13</td>\n",
       "      <td>155.0</td>\n",
       "      <td>No</td>\n",
       "      <td>5</td>\n",
       "      <td>7</td>\n",
       "      <td>Early Morning</td>\n",
       "      <td>Early Morning</td>\n",
       "      <td>2</td>\n",
       "      <td>Wednesday</td>\n",
       "    </tr>\n",
       "    <tr>\n",
       "      <th>4</th>\n",
       "      <td>Go First</td>\n",
       "      <td>Mumbai</td>\n",
       "      <td>Kolkata</td>\n",
       "      <td>Non Stop</td>\n",
       "      <td>7412.0</td>\n",
       "      <td>2021-10-13</td>\n",
       "      <td>160.0</td>\n",
       "      <td>No</td>\n",
       "      <td>7</td>\n",
       "      <td>10</td>\n",
       "      <td>Early Morning</td>\n",
       "      <td>Morning</td>\n",
       "      <td>2</td>\n",
       "      <td>Wednesday</td>\n",
       "    </tr>\n",
       "  </tbody>\n",
       "</table>\n",
       "</div>"
      ],
      "text/plain": [
       "    Airline Source City Destination City      Stops   Price      Dates  \\\n",
       "0  Air Asia      Mumbai          Kolkata     1 Stop  7410.0 2021-10-13   \n",
       "1  Air Asia      Mumbai          Kolkata     1 Stop  7410.0 2021-10-13   \n",
       "2  Air Asia      Mumbai          Kolkata  2 Stop(s)  7410.0 2021-10-13   \n",
       "3  SpiceJet      Mumbai          Kolkata   Non Stop  7412.0 2021-10-13   \n",
       "4  Go First      Mumbai          Kolkata   Non Stop  7412.0 2021-10-13   \n",
       "\n",
       "   Duration_in_Minutes Next_day_Arrival  Depature_hour  Arrival_hour  \\\n",
       "0                475.0              Yes             23             7   \n",
       "1                685.0              Yes             20             8   \n",
       "2                925.0               No              5            21   \n",
       "3                155.0               No              5             7   \n",
       "4                160.0               No              7            10   \n",
       "\n",
       "  Departure_Part_of_the_day Arrival_Part_of_the_day  week_num        Day  \n",
       "0                     Night           Early Morning         2  Wednesday  \n",
       "1                       Eve           Early Morning         2  Wednesday  \n",
       "2             Early Morning                   Night         2  Wednesday  \n",
       "3             Early Morning           Early Morning         2  Wednesday  \n",
       "4             Early Morning                 Morning         2  Wednesday  "
      ]
     },
     "execution_count": 43,
     "metadata": {},
     "output_type": "execute_result"
    }
   ],
   "source": [
    "df.head()"
   ]
  },
  {
   "cell_type": "code",
   "execution_count": 44,
   "id": "4257ebb2",
   "metadata": {},
   "outputs": [],
   "source": [
    "#exatracting only date since i have only scraped data from october 9th to october 31th 2021\n",
    "df[\"only_date\"] = pd.DatetimeIndex(df[\"Dates\"]).day"
   ]
  },
  {
   "cell_type": "code",
   "execution_count": 45,
   "id": "e9195854",
   "metadata": {},
   "outputs": [],
   "source": [
    "#extraxting the days prior to booking column\n",
    "#since i scapred the data on 9th\n",
    "#for 9th days prior booking is zero\n",
    "df[\"Days_priors_booking\"] = df[\"only_date\"] - 9"
   ]
  },
  {
   "cell_type": "code",
   "execution_count": 46,
   "id": "c271a325",
   "metadata": {},
   "outputs": [
    {
     "data": {
      "text/html": [
       "<div>\n",
       "<style scoped>\n",
       "    .dataframe tbody tr th:only-of-type {\n",
       "        vertical-align: middle;\n",
       "    }\n",
       "\n",
       "    .dataframe tbody tr th {\n",
       "        vertical-align: top;\n",
       "    }\n",
       "\n",
       "    .dataframe thead th {\n",
       "        text-align: right;\n",
       "    }\n",
       "</style>\n",
       "<table border=\"1\" class=\"dataframe\">\n",
       "  <thead>\n",
       "    <tr style=\"text-align: right;\">\n",
       "      <th></th>\n",
       "      <th>Airline</th>\n",
       "      <th>Source City</th>\n",
       "      <th>Destination City</th>\n",
       "      <th>Stops</th>\n",
       "      <th>Price</th>\n",
       "      <th>Dates</th>\n",
       "      <th>Duration_in_Minutes</th>\n",
       "      <th>Next_day_Arrival</th>\n",
       "      <th>Depature_hour</th>\n",
       "      <th>Arrival_hour</th>\n",
       "      <th>Departure_Part_of_the_day</th>\n",
       "      <th>Arrival_Part_of_the_day</th>\n",
       "      <th>week_num</th>\n",
       "      <th>Day</th>\n",
       "      <th>only_date</th>\n",
       "      <th>Days_priors_booking</th>\n",
       "    </tr>\n",
       "  </thead>\n",
       "  <tbody>\n",
       "    <tr>\n",
       "      <th>0</th>\n",
       "      <td>Air Asia</td>\n",
       "      <td>Mumbai</td>\n",
       "      <td>Kolkata</td>\n",
       "      <td>1 Stop</td>\n",
       "      <td>7410.0</td>\n",
       "      <td>2021-10-13</td>\n",
       "      <td>475.0</td>\n",
       "      <td>Yes</td>\n",
       "      <td>23</td>\n",
       "      <td>7</td>\n",
       "      <td>Night</td>\n",
       "      <td>Early Morning</td>\n",
       "      <td>2</td>\n",
       "      <td>Wednesday</td>\n",
       "      <td>13</td>\n",
       "      <td>4</td>\n",
       "    </tr>\n",
       "    <tr>\n",
       "      <th>1</th>\n",
       "      <td>Air Asia</td>\n",
       "      <td>Mumbai</td>\n",
       "      <td>Kolkata</td>\n",
       "      <td>1 Stop</td>\n",
       "      <td>7410.0</td>\n",
       "      <td>2021-10-13</td>\n",
       "      <td>685.0</td>\n",
       "      <td>Yes</td>\n",
       "      <td>20</td>\n",
       "      <td>8</td>\n",
       "      <td>Eve</td>\n",
       "      <td>Early Morning</td>\n",
       "      <td>2</td>\n",
       "      <td>Wednesday</td>\n",
       "      <td>13</td>\n",
       "      <td>4</td>\n",
       "    </tr>\n",
       "    <tr>\n",
       "      <th>2</th>\n",
       "      <td>Air Asia</td>\n",
       "      <td>Mumbai</td>\n",
       "      <td>Kolkata</td>\n",
       "      <td>2 Stop(s)</td>\n",
       "      <td>7410.0</td>\n",
       "      <td>2021-10-13</td>\n",
       "      <td>925.0</td>\n",
       "      <td>No</td>\n",
       "      <td>5</td>\n",
       "      <td>21</td>\n",
       "      <td>Early Morning</td>\n",
       "      <td>Night</td>\n",
       "      <td>2</td>\n",
       "      <td>Wednesday</td>\n",
       "      <td>13</td>\n",
       "      <td>4</td>\n",
       "    </tr>\n",
       "    <tr>\n",
       "      <th>3</th>\n",
       "      <td>SpiceJet</td>\n",
       "      <td>Mumbai</td>\n",
       "      <td>Kolkata</td>\n",
       "      <td>Non Stop</td>\n",
       "      <td>7412.0</td>\n",
       "      <td>2021-10-13</td>\n",
       "      <td>155.0</td>\n",
       "      <td>No</td>\n",
       "      <td>5</td>\n",
       "      <td>7</td>\n",
       "      <td>Early Morning</td>\n",
       "      <td>Early Morning</td>\n",
       "      <td>2</td>\n",
       "      <td>Wednesday</td>\n",
       "      <td>13</td>\n",
       "      <td>4</td>\n",
       "    </tr>\n",
       "    <tr>\n",
       "      <th>4</th>\n",
       "      <td>Go First</td>\n",
       "      <td>Mumbai</td>\n",
       "      <td>Kolkata</td>\n",
       "      <td>Non Stop</td>\n",
       "      <td>7412.0</td>\n",
       "      <td>2021-10-13</td>\n",
       "      <td>160.0</td>\n",
       "      <td>No</td>\n",
       "      <td>7</td>\n",
       "      <td>10</td>\n",
       "      <td>Early Morning</td>\n",
       "      <td>Morning</td>\n",
       "      <td>2</td>\n",
       "      <td>Wednesday</td>\n",
       "      <td>13</td>\n",
       "      <td>4</td>\n",
       "    </tr>\n",
       "  </tbody>\n",
       "</table>\n",
       "</div>"
      ],
      "text/plain": [
       "    Airline Source City Destination City      Stops   Price      Dates  \\\n",
       "0  Air Asia      Mumbai          Kolkata     1 Stop  7410.0 2021-10-13   \n",
       "1  Air Asia      Mumbai          Kolkata     1 Stop  7410.0 2021-10-13   \n",
       "2  Air Asia      Mumbai          Kolkata  2 Stop(s)  7410.0 2021-10-13   \n",
       "3  SpiceJet      Mumbai          Kolkata   Non Stop  7412.0 2021-10-13   \n",
       "4  Go First      Mumbai          Kolkata   Non Stop  7412.0 2021-10-13   \n",
       "\n",
       "   Duration_in_Minutes Next_day_Arrival  Depature_hour  Arrival_hour  \\\n",
       "0                475.0              Yes             23             7   \n",
       "1                685.0              Yes             20             8   \n",
       "2                925.0               No              5            21   \n",
       "3                155.0               No              5             7   \n",
       "4                160.0               No              7            10   \n",
       "\n",
       "  Departure_Part_of_the_day Arrival_Part_of_the_day  week_num        Day  \\\n",
       "0                     Night           Early Morning         2  Wednesday   \n",
       "1                       Eve           Early Morning         2  Wednesday   \n",
       "2             Early Morning                   Night         2  Wednesday   \n",
       "3             Early Morning           Early Morning         2  Wednesday   \n",
       "4             Early Morning                 Morning         2  Wednesday   \n",
       "\n",
       "   only_date  Days_priors_booking  \n",
       "0         13                    4  \n",
       "1         13                    4  \n",
       "2         13                    4  \n",
       "3         13                    4  \n",
       "4         13                    4  "
      ]
     },
     "execution_count": 46,
     "metadata": {},
     "output_type": "execute_result"
    }
   ],
   "source": [
    "df.head()"
   ]
  },
  {
   "cell_type": "code",
   "execution_count": 47,
   "id": "ac1d7742",
   "metadata": {},
   "outputs": [],
   "source": [
    "#Now lets drop week_num,only_date,Dates columns\n",
    "df.drop([\"Dates\",\"week_num\",\"only_date\"],axis =1,inplace= True)"
   ]
  },
  {
   "cell_type": "code",
   "execution_count": 48,
   "id": "2ae9ea43",
   "metadata": {},
   "outputs": [
    {
     "data": {
      "text/html": [
       "<div>\n",
       "<style scoped>\n",
       "    .dataframe tbody tr th:only-of-type {\n",
       "        vertical-align: middle;\n",
       "    }\n",
       "\n",
       "    .dataframe tbody tr th {\n",
       "        vertical-align: top;\n",
       "    }\n",
       "\n",
       "    .dataframe thead th {\n",
       "        text-align: right;\n",
       "    }\n",
       "</style>\n",
       "<table border=\"1\" class=\"dataframe\">\n",
       "  <thead>\n",
       "    <tr style=\"text-align: right;\">\n",
       "      <th></th>\n",
       "      <th>Airline</th>\n",
       "      <th>Source City</th>\n",
       "      <th>Destination City</th>\n",
       "      <th>Stops</th>\n",
       "      <th>Price</th>\n",
       "      <th>Duration_in_Minutes</th>\n",
       "      <th>Next_day_Arrival</th>\n",
       "      <th>Depature_hour</th>\n",
       "      <th>Arrival_hour</th>\n",
       "      <th>Departure_Part_of_the_day</th>\n",
       "      <th>Arrival_Part_of_the_day</th>\n",
       "      <th>Day</th>\n",
       "      <th>Days_priors_booking</th>\n",
       "    </tr>\n",
       "  </thead>\n",
       "  <tbody>\n",
       "    <tr>\n",
       "      <th>0</th>\n",
       "      <td>Air Asia</td>\n",
       "      <td>Mumbai</td>\n",
       "      <td>Kolkata</td>\n",
       "      <td>1 Stop</td>\n",
       "      <td>7410.0</td>\n",
       "      <td>475.0</td>\n",
       "      <td>Yes</td>\n",
       "      <td>23</td>\n",
       "      <td>7</td>\n",
       "      <td>Night</td>\n",
       "      <td>Early Morning</td>\n",
       "      <td>Wednesday</td>\n",
       "      <td>4</td>\n",
       "    </tr>\n",
       "    <tr>\n",
       "      <th>1</th>\n",
       "      <td>Air Asia</td>\n",
       "      <td>Mumbai</td>\n",
       "      <td>Kolkata</td>\n",
       "      <td>1 Stop</td>\n",
       "      <td>7410.0</td>\n",
       "      <td>685.0</td>\n",
       "      <td>Yes</td>\n",
       "      <td>20</td>\n",
       "      <td>8</td>\n",
       "      <td>Eve</td>\n",
       "      <td>Early Morning</td>\n",
       "      <td>Wednesday</td>\n",
       "      <td>4</td>\n",
       "    </tr>\n",
       "    <tr>\n",
       "      <th>2</th>\n",
       "      <td>Air Asia</td>\n",
       "      <td>Mumbai</td>\n",
       "      <td>Kolkata</td>\n",
       "      <td>2 Stop(s)</td>\n",
       "      <td>7410.0</td>\n",
       "      <td>925.0</td>\n",
       "      <td>No</td>\n",
       "      <td>5</td>\n",
       "      <td>21</td>\n",
       "      <td>Early Morning</td>\n",
       "      <td>Night</td>\n",
       "      <td>Wednesday</td>\n",
       "      <td>4</td>\n",
       "    </tr>\n",
       "    <tr>\n",
       "      <th>3</th>\n",
       "      <td>SpiceJet</td>\n",
       "      <td>Mumbai</td>\n",
       "      <td>Kolkata</td>\n",
       "      <td>Non Stop</td>\n",
       "      <td>7412.0</td>\n",
       "      <td>155.0</td>\n",
       "      <td>No</td>\n",
       "      <td>5</td>\n",
       "      <td>7</td>\n",
       "      <td>Early Morning</td>\n",
       "      <td>Early Morning</td>\n",
       "      <td>Wednesday</td>\n",
       "      <td>4</td>\n",
       "    </tr>\n",
       "    <tr>\n",
       "      <th>4</th>\n",
       "      <td>Go First</td>\n",
       "      <td>Mumbai</td>\n",
       "      <td>Kolkata</td>\n",
       "      <td>Non Stop</td>\n",
       "      <td>7412.0</td>\n",
       "      <td>160.0</td>\n",
       "      <td>No</td>\n",
       "      <td>7</td>\n",
       "      <td>10</td>\n",
       "      <td>Early Morning</td>\n",
       "      <td>Morning</td>\n",
       "      <td>Wednesday</td>\n",
       "      <td>4</td>\n",
       "    </tr>\n",
       "  </tbody>\n",
       "</table>\n",
       "</div>"
      ],
      "text/plain": [
       "    Airline Source City Destination City      Stops   Price  \\\n",
       "0  Air Asia      Mumbai          Kolkata     1 Stop  7410.0   \n",
       "1  Air Asia      Mumbai          Kolkata     1 Stop  7410.0   \n",
       "2  Air Asia      Mumbai          Kolkata  2 Stop(s)  7410.0   \n",
       "3  SpiceJet      Mumbai          Kolkata   Non Stop  7412.0   \n",
       "4  Go First      Mumbai          Kolkata   Non Stop  7412.0   \n",
       "\n",
       "   Duration_in_Minutes Next_day_Arrival  Depature_hour  Arrival_hour  \\\n",
       "0                475.0              Yes             23             7   \n",
       "1                685.0              Yes             20             8   \n",
       "2                925.0               No              5            21   \n",
       "3                155.0               No              5             7   \n",
       "4                160.0               No              7            10   \n",
       "\n",
       "  Departure_Part_of_the_day Arrival_Part_of_the_day        Day  \\\n",
       "0                     Night           Early Morning  Wednesday   \n",
       "1                       Eve           Early Morning  Wednesday   \n",
       "2             Early Morning                   Night  Wednesday   \n",
       "3             Early Morning           Early Morning  Wednesday   \n",
       "4             Early Morning                 Morning  Wednesday   \n",
       "\n",
       "   Days_priors_booking  \n",
       "0                    4  \n",
       "1                    4  \n",
       "2                    4  \n",
       "3                    4  \n",
       "4                    4  "
      ]
     },
     "execution_count": 48,
     "metadata": {},
     "output_type": "execute_result"
    }
   ],
   "source": [
    "df.head()"
   ]
  },
  {
   "cell_type": "code",
   "execution_count": 49,
   "id": "75e42930",
   "metadata": {},
   "outputs": [],
   "source": [
    "#This is Our final Dataframe after pre-Processing"
   ]
  },
  {
   "cell_type": "code",
   "execution_count": 50,
   "id": "9d915979",
   "metadata": {},
   "outputs": [],
   "source": [
    "#df.to_csv(\"Flights_final_pre.csv\")"
   ]
  },
  {
   "cell_type": "code",
   "execution_count": 51,
   "id": "9921ba7d",
   "metadata": {},
   "outputs": [
    {
     "data": {
      "text/html": [
       "<div>\n",
       "<style scoped>\n",
       "    .dataframe tbody tr th:only-of-type {\n",
       "        vertical-align: middle;\n",
       "    }\n",
       "\n",
       "    .dataframe tbody tr th {\n",
       "        vertical-align: top;\n",
       "    }\n",
       "\n",
       "    .dataframe thead th {\n",
       "        text-align: right;\n",
       "    }\n",
       "</style>\n",
       "<table border=\"1\" class=\"dataframe\">\n",
       "  <thead>\n",
       "    <tr style=\"text-align: right;\">\n",
       "      <th></th>\n",
       "      <th>Airline</th>\n",
       "      <th>Source City</th>\n",
       "      <th>Destination City</th>\n",
       "      <th>Stops</th>\n",
       "      <th>Price</th>\n",
       "      <th>Duration_in_Minutes</th>\n",
       "      <th>Next_day_Arrival</th>\n",
       "      <th>Depature_hour</th>\n",
       "      <th>Arrival_hour</th>\n",
       "      <th>Departure_Part_of_the_day</th>\n",
       "      <th>Arrival_Part_of_the_day</th>\n",
       "      <th>Day</th>\n",
       "      <th>Days_priors_booking</th>\n",
       "    </tr>\n",
       "  </thead>\n",
       "  <tbody>\n",
       "    <tr>\n",
       "      <th>0</th>\n",
       "      <td>Air Asia</td>\n",
       "      <td>Mumbai</td>\n",
       "      <td>Kolkata</td>\n",
       "      <td>1 Stop</td>\n",
       "      <td>7410.0</td>\n",
       "      <td>475.0</td>\n",
       "      <td>Yes</td>\n",
       "      <td>23</td>\n",
       "      <td>7</td>\n",
       "      <td>Night</td>\n",
       "      <td>Early Morning</td>\n",
       "      <td>Wednesday</td>\n",
       "      <td>4</td>\n",
       "    </tr>\n",
       "    <tr>\n",
       "      <th>1</th>\n",
       "      <td>Air Asia</td>\n",
       "      <td>Mumbai</td>\n",
       "      <td>Kolkata</td>\n",
       "      <td>1 Stop</td>\n",
       "      <td>7410.0</td>\n",
       "      <td>685.0</td>\n",
       "      <td>Yes</td>\n",
       "      <td>20</td>\n",
       "      <td>8</td>\n",
       "      <td>Eve</td>\n",
       "      <td>Early Morning</td>\n",
       "      <td>Wednesday</td>\n",
       "      <td>4</td>\n",
       "    </tr>\n",
       "    <tr>\n",
       "      <th>2</th>\n",
       "      <td>Air Asia</td>\n",
       "      <td>Mumbai</td>\n",
       "      <td>Kolkata</td>\n",
       "      <td>2 Stop(s)</td>\n",
       "      <td>7410.0</td>\n",
       "      <td>925.0</td>\n",
       "      <td>No</td>\n",
       "      <td>5</td>\n",
       "      <td>21</td>\n",
       "      <td>Early Morning</td>\n",
       "      <td>Night</td>\n",
       "      <td>Wednesday</td>\n",
       "      <td>4</td>\n",
       "    </tr>\n",
       "    <tr>\n",
       "      <th>3</th>\n",
       "      <td>SpiceJet</td>\n",
       "      <td>Mumbai</td>\n",
       "      <td>Kolkata</td>\n",
       "      <td>Non Stop</td>\n",
       "      <td>7412.0</td>\n",
       "      <td>155.0</td>\n",
       "      <td>No</td>\n",
       "      <td>5</td>\n",
       "      <td>7</td>\n",
       "      <td>Early Morning</td>\n",
       "      <td>Early Morning</td>\n",
       "      <td>Wednesday</td>\n",
       "      <td>4</td>\n",
       "    </tr>\n",
       "    <tr>\n",
       "      <th>4</th>\n",
       "      <td>Go First</td>\n",
       "      <td>Mumbai</td>\n",
       "      <td>Kolkata</td>\n",
       "      <td>Non Stop</td>\n",
       "      <td>7412.0</td>\n",
       "      <td>160.0</td>\n",
       "      <td>No</td>\n",
       "      <td>7</td>\n",
       "      <td>10</td>\n",
       "      <td>Early Morning</td>\n",
       "      <td>Morning</td>\n",
       "      <td>Wednesday</td>\n",
       "      <td>4</td>\n",
       "    </tr>\n",
       "    <tr>\n",
       "      <th>...</th>\n",
       "      <td>...</td>\n",
       "      <td>...</td>\n",
       "      <td>...</td>\n",
       "      <td>...</td>\n",
       "      <td>...</td>\n",
       "      <td>...</td>\n",
       "      <td>...</td>\n",
       "      <td>...</td>\n",
       "      <td>...</td>\n",
       "      <td>...</td>\n",
       "      <td>...</td>\n",
       "      <td>...</td>\n",
       "      <td>...</td>\n",
       "    </tr>\n",
       "    <tr>\n",
       "      <th>1606</th>\n",
       "      <td>Vistara</td>\n",
       "      <td>Lucknow</td>\n",
       "      <td>Goa</td>\n",
       "      <td>2 Stop(s)</td>\n",
       "      <td>14690.0</td>\n",
       "      <td>1210.0</td>\n",
       "      <td>Yes</td>\n",
       "      <td>15</td>\n",
       "      <td>11</td>\n",
       "      <td>Noon</td>\n",
       "      <td>Morning</td>\n",
       "      <td>Wednesday</td>\n",
       "      <td>18</td>\n",
       "    </tr>\n",
       "    <tr>\n",
       "      <th>1607</th>\n",
       "      <td>Vistara</td>\n",
       "      <td>Lucknow</td>\n",
       "      <td>Goa</td>\n",
       "      <td>2 Stop(s)</td>\n",
       "      <td>14690.0</td>\n",
       "      <td>1210.0</td>\n",
       "      <td>Yes</td>\n",
       "      <td>15</td>\n",
       "      <td>11</td>\n",
       "      <td>Noon</td>\n",
       "      <td>Morning</td>\n",
       "      <td>Wednesday</td>\n",
       "      <td>18</td>\n",
       "    </tr>\n",
       "    <tr>\n",
       "      <th>1608</th>\n",
       "      <td>Vistara</td>\n",
       "      <td>Lucknow</td>\n",
       "      <td>Goa</td>\n",
       "      <td>2 Stop(s)</td>\n",
       "      <td>14690.0</td>\n",
       "      <td>1210.0</td>\n",
       "      <td>Yes</td>\n",
       "      <td>15</td>\n",
       "      <td>11</td>\n",
       "      <td>Noon</td>\n",
       "      <td>Morning</td>\n",
       "      <td>Wednesday</td>\n",
       "      <td>18</td>\n",
       "    </tr>\n",
       "    <tr>\n",
       "      <th>1609</th>\n",
       "      <td>Vistara</td>\n",
       "      <td>Lucknow</td>\n",
       "      <td>Goa</td>\n",
       "      <td>2 Stop(s)</td>\n",
       "      <td>14690.0</td>\n",
       "      <td>1210.0</td>\n",
       "      <td>Yes</td>\n",
       "      <td>15</td>\n",
       "      <td>11</td>\n",
       "      <td>Noon</td>\n",
       "      <td>Morning</td>\n",
       "      <td>Wednesday</td>\n",
       "      <td>18</td>\n",
       "    </tr>\n",
       "    <tr>\n",
       "      <th>1610</th>\n",
       "      <td>IndiGo</td>\n",
       "      <td>Lucknow</td>\n",
       "      <td>Goa</td>\n",
       "      <td>1 Stop</td>\n",
       "      <td>14864.0</td>\n",
       "      <td>310.0</td>\n",
       "      <td>No</td>\n",
       "      <td>9</td>\n",
       "      <td>14</td>\n",
       "      <td>Morning</td>\n",
       "      <td>Noon</td>\n",
       "      <td>Wednesday</td>\n",
       "      <td>18</td>\n",
       "    </tr>\n",
       "  </tbody>\n",
       "</table>\n",
       "<p>1611 rows × 13 columns</p>\n",
       "</div>"
      ],
      "text/plain": [
       "       Airline Source City Destination City      Stops    Price  \\\n",
       "0     Air Asia      Mumbai          Kolkata     1 Stop   7410.0   \n",
       "1     Air Asia      Mumbai          Kolkata     1 Stop   7410.0   \n",
       "2     Air Asia      Mumbai          Kolkata  2 Stop(s)   7410.0   \n",
       "3     SpiceJet      Mumbai          Kolkata   Non Stop   7412.0   \n",
       "4     Go First      Mumbai          Kolkata   Non Stop   7412.0   \n",
       "...        ...         ...              ...        ...      ...   \n",
       "1606   Vistara     Lucknow              Goa  2 Stop(s)  14690.0   \n",
       "1607   Vistara     Lucknow              Goa  2 Stop(s)  14690.0   \n",
       "1608   Vistara     Lucknow              Goa  2 Stop(s)  14690.0   \n",
       "1609   Vistara     Lucknow              Goa  2 Stop(s)  14690.0   \n",
       "1610    IndiGo     Lucknow              Goa     1 Stop  14864.0   \n",
       "\n",
       "      Duration_in_Minutes Next_day_Arrival  Depature_hour  Arrival_hour  \\\n",
       "0                   475.0              Yes             23             7   \n",
       "1                   685.0              Yes             20             8   \n",
       "2                   925.0               No              5            21   \n",
       "3                   155.0               No              5             7   \n",
       "4                   160.0               No              7            10   \n",
       "...                   ...              ...            ...           ...   \n",
       "1606               1210.0              Yes             15            11   \n",
       "1607               1210.0              Yes             15            11   \n",
       "1608               1210.0              Yes             15            11   \n",
       "1609               1210.0              Yes             15            11   \n",
       "1610                310.0               No              9            14   \n",
       "\n",
       "     Departure_Part_of_the_day Arrival_Part_of_the_day        Day  \\\n",
       "0                        Night           Early Morning  Wednesday   \n",
       "1                          Eve           Early Morning  Wednesday   \n",
       "2                Early Morning                   Night  Wednesday   \n",
       "3                Early Morning           Early Morning  Wednesday   \n",
       "4                Early Morning                 Morning  Wednesday   \n",
       "...                        ...                     ...        ...   \n",
       "1606                      Noon                 Morning  Wednesday   \n",
       "1607                      Noon                 Morning  Wednesday   \n",
       "1608                      Noon                 Morning  Wednesday   \n",
       "1609                      Noon                 Morning  Wednesday   \n",
       "1610                   Morning                    Noon  Wednesday   \n",
       "\n",
       "      Days_priors_booking  \n",
       "0                       4  \n",
       "1                       4  \n",
       "2                       4  \n",
       "3                       4  \n",
       "4                       4  \n",
       "...                   ...  \n",
       "1606                   18  \n",
       "1607                   18  \n",
       "1608                   18  \n",
       "1609                   18  \n",
       "1610                   18  \n",
       "\n",
       "[1611 rows x 13 columns]"
      ]
     },
     "execution_count": 51,
     "metadata": {},
     "output_type": "execute_result"
    }
   ],
   "source": [
    "df"
   ]
  },
  {
   "cell_type": "markdown",
   "id": "1c4e7eec",
   "metadata": {},
   "source": [
    "## Data Visualization :"
   ]
  },
  {
   "cell_type": "code",
   "execution_count": 52,
   "id": "a31dc4fd",
   "metadata": {},
   "outputs": [
    {
     "data": {
      "image/png": "[encoded data removed]",
      "text/plain": [
       "<Figure size 432x288 with 1 Axes>"
      ]
     },
     "metadata": {
      "needs_background": "light"
     },
     "output_type": "display_data"
    }
   ],
   "source": [
    "#lets check the box plot of our target column, to check if there are outliers\n",
    "sns.boxplot(df.Price)\n",
    "plt.show()"
   ]
  },
  {
   "cell_type": "markdown",
   "id": "9bfd6d8d",
   "metadata": {},
   "source": [
    "From the above plot we can see there is only 1 outlier in the target column"
   ]
  },
  {
   "cell_type": "code",
   "execution_count": 53,
   "id": "07622510",
   "metadata": {},
   "outputs": [
    {
     "data": {
      "image/png": "[encoded data removed]",
      "text/plain": [
       "<Figure size 432x288 with 1 Axes>"
      ]
     },
     "metadata": {
      "needs_background": "light"
     },
     "output_type": "display_data"
    }
   ],
   "source": [
    "#lets check the distribution of the target column\n",
    "sns.distplot(df.Price)\n",
    "plt.show()"
   ]
  },
  {
   "cell_type": "markdown",
   "id": "08705ecf",
   "metadata": {},
   "source": [
    "From the above plot we can see that data is less skewed in target column"
   ]
  },
  {
   "cell_type": "code",
   "execution_count": 54,
   "id": "ae0d6c0a",
   "metadata": {},
   "outputs": [
    {
     "data": {
      "image/png": "[encoded data removed]",
      "text/plain": [
       "<Figure size 432x288 with 1 Axes>"
      ]
     },
     "metadata": {
      "needs_background": "light"
     },
     "output_type": "display_data"
    }
   ],
   "source": [
    "sns.violinplot(df.Price)\n",
    "plt.show()"
   ]
  },
  {
   "cell_type": "markdown",
   "id": "9a13593a",
   "metadata": {},
   "source": [
    "## Bivariate Analysis with Target Variable"
   ]
  },
  {
   "cell_type": "code",
   "execution_count": 55,
   "id": "053196d3",
   "metadata": {},
   "outputs": [
    {
     "data": {
      "text/plain": [
       "Index(['Airline', 'Source City', 'Destination City', 'Stops', 'Price',\n",
       "       'Duration_in_Minutes', 'Next_day_Arrival', 'Depature_hour',\n",
       "       'Arrival_hour', 'Departure_Part_of_the_day', 'Arrival_Part_of_the_day',\n",
       "       'Day', 'Days_priors_booking'],\n",
       "      dtype='object')"
      ]
     },
     "execution_count": 55,
     "metadata": {},
     "output_type": "execute_result"
    }
   ],
   "source": [
    "df.columns"
   ]
  },
  {
   "cell_type": "code",
   "execution_count": 56,
   "id": "fb8f9690",
   "metadata": {},
   "outputs": [
    {
     "data": {
      "image/png": "[encoded data removed]",
      "text/plain": [
       "<Figure size 1080x360 with 1 Axes>"
      ]
     },
     "metadata": {
      "needs_background": "light"
     },
     "output_type": "display_data"
    }
   ],
   "source": [
    "#Lets check this column againt our target variable\n",
    "plt.figure(figsize= (15,5))\n",
    "col1 = sns.barplot(x = df['Airline'] , y =df['Price'] )\n",
    "col1.set_xticklabels(col1.get_xticklabels(), rotation=40, ha=\"right\") \n",
    "plt.show()"
   ]
  },
  {
   "cell_type": "code",
   "execution_count": 57,
   "id": "cf57c571",
   "metadata": {},
   "outputs": [],
   "source": [
    "#from the above plot we can see that AirAsia is very cheap and vistara is more expensive"
   ]
  },
  {
   "cell_type": "code",
   "execution_count": 58,
   "id": "8a20df95",
   "metadata": {
    "scrolled": true
   },
   "outputs": [
    {
     "data": {
      "image/png": "[encoded data removed]",
      "text/plain": [
       "<Figure size 1080x360 with 1 Axes>"
      ]
     },
     "metadata": {
      "needs_background": "light"
     },
     "output_type": "display_data"
    }
   ],
   "source": [
    "#Lets check this column againt our target variable\n",
    "plt.figure(figsize= (15,5))\n",
    "col1 = sns.barplot(x = df['Source City'] , y =df['Price'] )\n",
    "col1.set_xticklabels(col1.get_xticklabels(), rotation=40, ha=\"right\") \n",
    "plt.show()"
   ]
  },
  {
   "cell_type": "code",
   "execution_count": 1,
   "id": "90c249b8",
   "metadata": {},
   "outputs": [],
   "source": [
    "#we can see that New Delhi have lowest prices and Lucknow have highest prices."
   ]
  },
  {
   "cell_type": "code",
   "execution_count": 59,
   "id": "966be3ee",
   "metadata": {
    "scrolled": false
   },
   "outputs": [
    {
     "data": {
      "image/png": "[encoded data removed]",
      "text/plain": [
       "<Figure size 1080x360 with 1 Axes>"
      ]
     },
     "metadata": {
      "needs_background": "light"
     },
     "output_type": "display_data"
    }
   ],
   "source": [
    "#Lets check this column againt our target variable\n",
    "plt.figure(figsize= (15,5))\n",
    "col1 = sns.barplot(x = df['Destination City'] , y =df['Price'] )\n",
    "col1.set_xticklabels(col1.get_xticklabels(), rotation=40, ha=\"right\") \n",
    "plt.show()"
   ]
  },
  {
   "cell_type": "code",
   "execution_count": 2,
   "id": "ef6b98ed",
   "metadata": {},
   "outputs": [],
   "source": [
    "# we can see that Hyderabad have less prices and Goa have high prices"
   ]
  },
  {
   "cell_type": "code",
   "execution_count": 60,
   "id": "b318cf00",
   "metadata": {
    "scrolled": true
   },
   "outputs": [
    {
     "data": {
      "image/png": "[encoded data removed]",
      "text/plain": [
       "<Figure size 1080x360 with 1 Axes>"
      ]
     },
     "metadata": {
      "needs_background": "light"
     },
     "output_type": "display_data"
    }
   ],
   "source": [
    "#Lets check this column againt our target variable\n",
    "plt.figure(figsize= (15,5))\n",
    "col1 = sns.barplot(x = df['Stops'] , y =df['Price'] )\n",
    "col1.set_xticklabels(col1.get_xticklabels(), rotation=40, ha=\"right\") \n",
    "plt.show()"
   ]
  },
  {
   "cell_type": "code",
   "execution_count": 61,
   "id": "4fda1f34",
   "metadata": {},
   "outputs": [],
   "source": [
    "#from the above plot we can see that flights having more spots are more expensive"
   ]
  },
  {
   "cell_type": "code",
   "execution_count": 62,
   "id": "b67f8b85",
   "metadata": {},
   "outputs": [
    {
     "data": {
      "image/png": "[encoded data removed]",
      "text/plain": [
       "<Figure size 1080x360 with 1 Axes>"
      ]
     },
     "metadata": {
      "needs_background": "light"
     },
     "output_type": "display_data"
    }
   ],
   "source": [
    "#Lets check this column againt our target variable\n",
    "plt.figure(figsize= (15,5))\n",
    "col1 = sns.barplot(x = df['Next_day_Arrival'] , y =df['Price'] )\n",
    "col1.set_xticklabels(col1.get_xticklabels(), rotation=40, ha=\"right\") \n",
    "plt.show()"
   ]
  },
  {
   "cell_type": "code",
   "execution_count": 63,
   "id": "98fc37e4",
   "metadata": {},
   "outputs": [],
   "source": [
    "#from the above plot we can see that if arrival is not in same day then the flight price is expensive"
   ]
  },
  {
   "cell_type": "code",
   "execution_count": 64,
   "id": "227499fd",
   "metadata": {},
   "outputs": [
    {
     "data": {
      "image/png": "[encoded data removed]",
      "text/plain": [
       "<Figure size 1080x360 with 1 Axes>"
      ]
     },
     "metadata": {
      "needs_background": "light"
     },
     "output_type": "display_data"
    }
   ],
   "source": [
    "#Lets check this column againt our target variable\n",
    "plt.figure(figsize= (15,5))\n",
    "col1 = sns.barplot(x = df['Departure_Part_of_the_day'] , y =df['Price'] )\n",
    "col1.set_xticklabels(col1.get_xticklabels(), rotation=40, ha=\"right\") \n",
    "plt.show()"
   ]
  },
  {
   "cell_type": "code",
   "execution_count": 65,
   "id": "d9574a50",
   "metadata": {},
   "outputs": [],
   "source": [
    "#from the above plot we can see that Morning and Noon flights are expensive and Late Night flights are cheaper"
   ]
  },
  {
   "cell_type": "code",
   "execution_count": 66,
   "id": "3b0e64c3",
   "metadata": {
    "scrolled": false
   },
   "outputs": [
    {
     "data": {
      "image/png": "[encoded data removed]",
      "text/plain": [
       "<Figure size 1080x360 with 1 Axes>"
      ]
     },
     "metadata": {
      "needs_background": "light"
     },
     "output_type": "display_data"
    }
   ],
   "source": [
    "#Lets check this column againt our target variable\n",
    "plt.figure(figsize= (15,5))\n",
    "col1 = sns.barplot(x = df['Arrival_Part_of_the_day'] , y =df['Price'] )\n",
    "col1.set_xticklabels(col1.get_xticklabels(), rotation=40, ha=\"right\") \n",
    "plt.show()"
   ]
  },
  {
   "cell_type": "code",
   "execution_count": 4,
   "id": "b0e979b0",
   "metadata": {},
   "outputs": [],
   "source": [
    "#Late flights are cheap and morning flight prices are high "
   ]
  },
  {
   "cell_type": "code",
   "execution_count": 67,
   "id": "15f94b12",
   "metadata": {},
   "outputs": [
    {
     "data": {
      "image/png": "[encoded data removed]",
      "text/plain": [
       "<Figure size 1080x360 with 1 Axes>"
      ]
     },
     "metadata": {
      "needs_background": "light"
     },
     "output_type": "display_data"
    }
   ],
   "source": [
    "#Lets check this column againt our target variable\n",
    "plt.figure(figsize= (15,5))\n",
    "col1 = sns.barplot(x = df['Day'] , y =df['Price'] )\n",
    "col1.set_xticklabels(col1.get_xticklabels(), rotation=40, ha=\"right\") \n",
    "plt.show()"
   ]
  },
  {
   "cell_type": "code",
   "execution_count": 69,
   "id": "f5340e0c",
   "metadata": {},
   "outputs": [],
   "source": [
    "#from the above plot we can see that there is not much difference in prices"
   ]
  },
  {
   "cell_type": "code",
   "execution_count": 70,
   "id": "cdaf1600",
   "metadata": {},
   "outputs": [
    {
     "data": {
      "text/plain": [
       "Index(['Airline', 'Source City', 'Destination City', 'Stops', 'Price',\n",
       "       'Duration_in_Minutes', 'Next_day_Arrival', 'Depature_hour',\n",
       "       'Arrival_hour', 'Departure_Part_of_the_day', 'Arrival_Part_of_the_day',\n",
       "       'Day', 'Days_priors_booking'],\n",
       "      dtype='object')"
      ]
     },
     "execution_count": 70,
     "metadata": {},
     "output_type": "execute_result"
    }
   ],
   "source": [
    "df.columns"
   ]
  },
  {
   "cell_type": "code",
   "execution_count": 71,
   "id": "89a1ae8f",
   "metadata": {},
   "outputs": [
    {
     "data": {
      "image/png": "[encoded data removed]",
      "text/plain": [
       "<Figure size 432x288 with 1 Axes>"
      ]
     },
     "metadata": {
      "needs_background": "light"
     },
     "output_type": "display_data"
    }
   ],
   "source": [
    "#Lets check this column againt our target variable\n",
    "sns.scatterplot(x = 'Duration_in_Minutes', y ='Price' , data  = df)\n",
    "plt.show()"
   ]
  },
  {
   "cell_type": "code",
   "execution_count": 72,
   "id": "671c9036",
   "metadata": {},
   "outputs": [
    {
     "data": {
      "image/png": "[encoded data removed]",
      "text/plain": [
       "<Figure size 432x288 with 1 Axes>"
      ]
     },
     "metadata": {
      "needs_background": "light"
     },
     "output_type": "display_data"
    }
   ],
   "source": [
    "#Lets check this column againt our target variable\n",
    "sns.scatterplot(x = 'Days_priors_booking', y ='Price' , data  = df)\n",
    "plt.show()"
   ]
  },
  {
   "cell_type": "markdown",
   "id": "c6c109c0",
   "metadata": {},
   "source": [
    "## We have seven questions to answer our client"
   ]
  },
  {
   "cell_type": "markdown",
   "id": "d94b38dc",
   "metadata": {},
   "source": [
    "## 1. Do airfares change frequently?"
   ]
  },
  {
   "cell_type": "code",
   "execution_count": 73,
   "id": "11616fa0",
   "metadata": {},
   "outputs": [
    {
     "data": {
      "image/png": "[encoded data removed]",
      "text/plain": [
       "<Figure size 432x288 with 1 Axes>"
      ]
     },
     "metadata": {
      "needs_background": "light"
     },
     "output_type": "display_data"
    }
   ],
   "source": [
    "#Lets check this column againt our target variable\n",
    "sns.scatterplot(x = 'Days_priors_booking', y ='Price' , data  = df)\n",
    "plt.show()"
   ]
  },
  {
   "cell_type": "markdown",
   "id": "62aee5be",
   "metadata": {},
   "source": [
    "From the above plot we can see that airfares change frequently"
   ]
  },
  {
   "cell_type": "markdown",
   "id": "2a979281",
   "metadata": {},
   "source": [
    "## 2. Do they move in small increments or in large jumps?"
   ]
  },
  {
   "cell_type": "code",
   "execution_count": 74,
   "id": "0a616b7b",
   "metadata": {},
   "outputs": [
    {
     "data": {
      "image/png": "[encoded data removed]",
      "text/plain": [
       "<Figure size 432x288 with 1 Axes>"
      ]
     },
     "metadata": {
      "needs_background": "light"
     },
     "output_type": "display_data"
    }
   ],
   "source": [
    "#Lets check this column againt our target variable\n",
    "sns.scatterplot(x = 'Days_priors_booking', y ='Price' , data  = df)\n",
    "plt.show()"
   ]
  },
  {
   "cell_type": "markdown",
   "id": "de97392d",
   "metadata": {},
   "source": [
    "Yes,they move in large jumps"
   ]
  },
  {
   "cell_type": "markdown",
   "id": "bcbae3c0",
   "metadata": {},
   "source": [
    "## 3. Do they tend to go up or down over time?"
   ]
  },
  {
   "cell_type": "code",
   "execution_count": 75,
   "id": "690c3277",
   "metadata": {},
   "outputs": [
    {
     "data": {
      "image/png": "[encoded data removed]",
      "text/plain": [
       "<Figure size 432x288 with 1 Axes>"
      ]
     },
     "metadata": {
      "needs_background": "light"
     },
     "output_type": "display_data"
    }
   ],
   "source": [
    "#Lets check this column againt our target variable\n",
    "sns.scatterplot(x = 'Days_priors_booking', y ='Price' , data  = df)\n",
    "plt.show()"
   ]
  },
  {
   "cell_type": "markdown",
   "id": "31957f8f",
   "metadata": {},
   "source": [
    "They usally tend go down over time"
   ]
  },
  {
   "cell_type": "markdown",
   "id": "d7b46d1d",
   "metadata": {},
   "source": [
    "## 4. What is the best time to buy so that the consumer can save the most by taking the least risk?"
   ]
  },
  {
   "cell_type": "code",
   "execution_count": 76,
   "id": "c2ed9c03",
   "metadata": {},
   "outputs": [
    {
     "data": {
      "image/png": "[encoded data removed]",
      "text/plain": [
       "<Figure size 1080x360 with 1 Axes>"
      ]
     },
     "metadata": {
      "needs_background": "light"
     },
     "output_type": "display_data"
    }
   ],
   "source": [
    "#Lets check this column againt our target variable\n",
    "plt.figure(figsize= (15,5))\n",
    "col1 = sns.barplot(x = df['Day'] , y =df['Price'] )\n",
    "col1.set_xticklabels(col1.get_xticklabels(), rotation=40, ha=\"right\") \n",
    "plt.show()"
   ]
  },
  {
   "cell_type": "code",
   "execution_count": 77,
   "id": "4164d2cb",
   "metadata": {},
   "outputs": [
    {
     "data": {
      "image/png": "[encoded data removed]",
      "text/plain": [
       "<Figure size 1080x360 with 1 Axes>"
      ]
     },
     "metadata": {
      "needs_background": "light"
     },
     "output_type": "display_data"
    }
   ],
   "source": [
    "#Lets check this column againt our target variable\n",
    "plt.figure(figsize= (15,5))\n",
    "col1 = sns.barplot(x = df['Airline'] , y =df['Price'] )\n",
    "col1.set_xticklabels(col1.get_xticklabels(), rotation=40, ha=\"right\") \n",
    "plt.show()"
   ]
  },
  {
   "cell_type": "markdown",
   "id": "5d8354d0",
   "metadata": {},
   "source": [
    "Going on Tuesday and choosing Air Asia can reduce the money"
   ]
  },
  {
   "cell_type": "markdown",
   "id": "7f2f6522",
   "metadata": {},
   "source": [
    "## 5. Does price increase as we get near to departure date?"
   ]
  },
  {
   "cell_type": "code",
   "execution_count": 78,
   "id": "3224d03d",
   "metadata": {},
   "outputs": [
    {
     "data": {
      "image/png": "[encoded data removed]",
      "text/plain": [
       "<Figure size 432x288 with 1 Axes>"
      ]
     },
     "metadata": {
      "needs_background": "light"
     },
     "output_type": "display_data"
    }
   ],
   "source": [
    "#Lets check this column againt our target variable\n",
    "sns.scatterplot(x = 'Days_priors_booking', y ='Price' , data  = df)\n",
    "plt.show()"
   ]
  },
  {
   "cell_type": "markdown",
   "id": "5d8fe7f6",
   "metadata": {},
   "source": [
    "Yes, booking prior can save some money"
   ]
  },
  {
   "cell_type": "markdown",
   "id": "1203dc76",
   "metadata": {},
   "source": [
    "## 6. Is Indigo cheaper than Jet Airways? "
   ]
  },
  {
   "cell_type": "code",
   "execution_count": 79,
   "id": "e6f4eb67",
   "metadata": {},
   "outputs": [
    {
     "data": {
      "image/png": "[encoded data removed]",
      "text/plain": [
       "<Figure size 1080x360 with 1 Axes>"
      ]
     },
     "metadata": {
      "needs_background": "light"
     },
     "output_type": "display_data"
    }
   ],
   "source": [
    "#Lets check this column againt our target variable\n",
    "plt.figure(figsize= (15,5))\n",
    "col1 = sns.barplot(x = df['Airline'] , y =df['Price'] )\n",
    "col1.set_xticklabels(col1.get_xticklabels(), rotation=40, ha=\"right\") \n",
    "plt.show()"
   ]
  },
  {
   "cell_type": "markdown",
   "id": "5739e304",
   "metadata": {},
   "source": [
    "No,indigo flights are not cheaper than spicejet"
   ]
  },
  {
   "cell_type": "markdown",
   "id": "275f8715",
   "metadata": {},
   "source": [
    "## 7. Are morning flights expensive?"
   ]
  },
  {
   "cell_type": "code",
   "execution_count": 80,
   "id": "f4637b50",
   "metadata": {},
   "outputs": [
    {
     "data": {
      "image/png": "[encoded data removed]",
      "text/plain": [
       "<Figure size 1080x360 with 1 Axes>"
      ]
     },
     "metadata": {
      "needs_background": "light"
     },
     "output_type": "display_data"
    }
   ],
   "source": [
    "#Lets check this column againt our target variable\n",
    "plt.figure(figsize= (15,5))\n",
    "col1 = sns.barplot(x = df['Departure_Part_of_the_day'] , y =df['Price'] )\n",
    "col1.set_xticklabels(col1.get_xticklabels(), rotation=40, ha=\"right\") \n",
    "plt.show()"
   ]
  },
  {
   "cell_type": "markdown",
   "id": "3db5025d",
   "metadata": {},
   "source": [
    "Yes,morning flights are expensive"
   ]
  },
  {
   "cell_type": "markdown",
   "id": "6dcdf9cd",
   "metadata": {},
   "source": [
    "## Encoding the Object Columns"
   ]
  },
  {
   "cell_type": "code",
   "execution_count": 81,
   "id": "6381cec3",
   "metadata": {},
   "outputs": [
    {
     "data": {
      "text/plain": [
       "Index(['Airline', 'Source City', 'Destination City', 'Stops', 'Price',\n",
       "       'Duration_in_Minutes', 'Next_day_Arrival', 'Depature_hour',\n",
       "       'Arrival_hour', 'Departure_Part_of_the_day', 'Arrival_Part_of_the_day',\n",
       "       'Day', 'Days_priors_booking'],\n",
       "      dtype='object')"
      ]
     },
     "execution_count": 81,
     "metadata": {},
     "output_type": "execute_result"
    }
   ],
   "source": [
    "df.columns"
   ]
  },
  {
   "cell_type": "code",
   "execution_count": 82,
   "id": "66d92f86",
   "metadata": {},
   "outputs": [],
   "source": [
    "#we need convert the above columns one-hot encoder, since they are not ordinal values\n",
    "#and also columns contains more than 2 unique values\n",
    "\n",
    "one_hot_columns = ['Airline', 'Destination City','Source City','Stops', 'Departure_Part_of_the_day',\n",
    "       'Arrival_Part_of_the_day',\"Day\",\"Next_day_Arrival\"]\n",
    "df_new = pd.get_dummies(data = df,columns=one_hot_columns)"
   ]
  },
  {
   "cell_type": "code",
   "execution_count": 83,
   "id": "1a64e528",
   "metadata": {},
   "outputs": [
    {
     "data": {
      "text/plain": [
       "(1611, 46)"
      ]
     },
     "execution_count": 83,
     "metadata": {},
     "output_type": "execute_result"
    }
   ],
   "source": [
    "df_new.shape"
   ]
  },
  {
   "cell_type": "code",
   "execution_count": 84,
   "id": "35fc6ea3",
   "metadata": {},
   "outputs": [
    {
     "data": {
      "text/html": [
       "<div>\n",
       "<style scoped>\n",
       "    .dataframe tbody tr th:only-of-type {\n",
       "        vertical-align: middle;\n",
       "    }\n",
       "\n",
       "    .dataframe tbody tr th {\n",
       "        vertical-align: top;\n",
       "    }\n",
       "\n",
       "    .dataframe thead th {\n",
       "        text-align: right;\n",
       "    }\n",
       "</style>\n",
       "<table border=\"1\" class=\"dataframe\">\n",
       "  <thead>\n",
       "    <tr style=\"text-align: right;\">\n",
       "      <th></th>\n",
       "      <th>Price</th>\n",
       "      <th>Duration_in_Minutes</th>\n",
       "      <th>Depature_hour</th>\n",
       "      <th>Arrival_hour</th>\n",
       "      <th>Days_priors_booking</th>\n",
       "      <th>Airline_Air Asia</th>\n",
       "      <th>Airline_Air India</th>\n",
       "      <th>Airline_Go First</th>\n",
       "      <th>Airline_IndiGo</th>\n",
       "      <th>Airline_SpiceJet</th>\n",
       "      <th>...</th>\n",
       "      <th>Arrival_Part_of_the_day_Noon</th>\n",
       "      <th>Day_Friday</th>\n",
       "      <th>Day_Monday</th>\n",
       "      <th>Day_Saturday</th>\n",
       "      <th>Day_Sunday</th>\n",
       "      <th>Day_Thursday</th>\n",
       "      <th>Day_Tuesday</th>\n",
       "      <th>Day_Wednesday</th>\n",
       "      <th>Next_day_Arrival_No</th>\n",
       "      <th>Next_day_Arrival_Yes</th>\n",
       "    </tr>\n",
       "  </thead>\n",
       "  <tbody>\n",
       "    <tr>\n",
       "      <th>0</th>\n",
       "      <td>7410.0</td>\n",
       "      <td>475.0</td>\n",
       "      <td>23</td>\n",
       "      <td>7</td>\n",
       "      <td>4</td>\n",
       "      <td>1</td>\n",
       "      <td>0</td>\n",
       "      <td>0</td>\n",
       "      <td>0</td>\n",
       "      <td>0</td>\n",
       "      <td>...</td>\n",
       "      <td>0</td>\n",
       "      <td>0</td>\n",
       "      <td>0</td>\n",
       "      <td>0</td>\n",
       "      <td>0</td>\n",
       "      <td>0</td>\n",
       "      <td>0</td>\n",
       "      <td>1</td>\n",
       "      <td>0</td>\n",
       "      <td>1</td>\n",
       "    </tr>\n",
       "    <tr>\n",
       "      <th>1</th>\n",
       "      <td>7410.0</td>\n",
       "      <td>685.0</td>\n",
       "      <td>20</td>\n",
       "      <td>8</td>\n",
       "      <td>4</td>\n",
       "      <td>1</td>\n",
       "      <td>0</td>\n",
       "      <td>0</td>\n",
       "      <td>0</td>\n",
       "      <td>0</td>\n",
       "      <td>...</td>\n",
       "      <td>0</td>\n",
       "      <td>0</td>\n",
       "      <td>0</td>\n",
       "      <td>0</td>\n",
       "      <td>0</td>\n",
       "      <td>0</td>\n",
       "      <td>0</td>\n",
       "      <td>1</td>\n",
       "      <td>0</td>\n",
       "      <td>1</td>\n",
       "    </tr>\n",
       "    <tr>\n",
       "      <th>2</th>\n",
       "      <td>7410.0</td>\n",
       "      <td>925.0</td>\n",
       "      <td>5</td>\n",
       "      <td>21</td>\n",
       "      <td>4</td>\n",
       "      <td>1</td>\n",
       "      <td>0</td>\n",
       "      <td>0</td>\n",
       "      <td>0</td>\n",
       "      <td>0</td>\n",
       "      <td>...</td>\n",
       "      <td>0</td>\n",
       "      <td>0</td>\n",
       "      <td>0</td>\n",
       "      <td>0</td>\n",
       "      <td>0</td>\n",
       "      <td>0</td>\n",
       "      <td>0</td>\n",
       "      <td>1</td>\n",
       "      <td>1</td>\n",
       "      <td>0</td>\n",
       "    </tr>\n",
       "    <tr>\n",
       "      <th>3</th>\n",
       "      <td>7412.0</td>\n",
       "      <td>155.0</td>\n",
       "      <td>5</td>\n",
       "      <td>7</td>\n",
       "      <td>4</td>\n",
       "      <td>0</td>\n",
       "      <td>0</td>\n",
       "      <td>0</td>\n",
       "      <td>0</td>\n",
       "      <td>1</td>\n",
       "      <td>...</td>\n",
       "      <td>0</td>\n",
       "      <td>0</td>\n",
       "      <td>0</td>\n",
       "      <td>0</td>\n",
       "      <td>0</td>\n",
       "      <td>0</td>\n",
       "      <td>0</td>\n",
       "      <td>1</td>\n",
       "      <td>1</td>\n",
       "      <td>0</td>\n",
       "    </tr>\n",
       "    <tr>\n",
       "      <th>4</th>\n",
       "      <td>7412.0</td>\n",
       "      <td>160.0</td>\n",
       "      <td>7</td>\n",
       "      <td>10</td>\n",
       "      <td>4</td>\n",
       "      <td>0</td>\n",
       "      <td>0</td>\n",
       "      <td>1</td>\n",
       "      <td>0</td>\n",
       "      <td>0</td>\n",
       "      <td>...</td>\n",
       "      <td>0</td>\n",
       "      <td>0</td>\n",
       "      <td>0</td>\n",
       "      <td>0</td>\n",
       "      <td>0</td>\n",
       "      <td>0</td>\n",
       "      <td>0</td>\n",
       "      <td>1</td>\n",
       "      <td>1</td>\n",
       "      <td>0</td>\n",
       "    </tr>\n",
       "  </tbody>\n",
       "</table>\n",
       "<p>5 rows × 46 columns</p>\n",
       "</div>"
      ],
      "text/plain": [
       "    Price  Duration_in_Minutes  Depature_hour  Arrival_hour  \\\n",
       "0  7410.0                475.0             23             7   \n",
       "1  7410.0                685.0             20             8   \n",
       "2  7410.0                925.0              5            21   \n",
       "3  7412.0                155.0              5             7   \n",
       "4  7412.0                160.0              7            10   \n",
       "\n",
       "   Days_priors_booking  Airline_Air Asia  Airline_Air India  Airline_Go First  \\\n",
       "0                    4                 1                  0                 0   \n",
       "1                    4                 1                  0                 0   \n",
       "2                    4                 1                  0                 0   \n",
       "3                    4                 0                  0                 0   \n",
       "4                    4                 0                  0                 1   \n",
       "\n",
       "   Airline_IndiGo  Airline_SpiceJet  ...  Arrival_Part_of_the_day_Noon  \\\n",
       "0               0                 0  ...                             0   \n",
       "1               0                 0  ...                             0   \n",
       "2               0                 0  ...                             0   \n",
       "3               0                 1  ...                             0   \n",
       "4               0                 0  ...                             0   \n",
       "\n",
       "   Day_Friday  Day_Monday  Day_Saturday  Day_Sunday  Day_Thursday  \\\n",
       "0           0           0             0           0             0   \n",
       "1           0           0             0           0             0   \n",
       "2           0           0             0           0             0   \n",
       "3           0           0             0           0             0   \n",
       "4           0           0             0           0             0   \n",
       "\n",
       "   Day_Tuesday  Day_Wednesday  Next_day_Arrival_No  Next_day_Arrival_Yes  \n",
       "0            0              1                    0                     1  \n",
       "1            0              1                    0                     1  \n",
       "2            0              1                    1                     0  \n",
       "3            0              1                    1                     0  \n",
       "4            0              1                    1                     0  \n",
       "\n",
       "[5 rows x 46 columns]"
      ]
     },
     "execution_count": 84,
     "metadata": {},
     "output_type": "execute_result"
    }
   ],
   "source": [
    "df_new.head()"
   ]
  },
  {
   "cell_type": "markdown",
   "id": "c214e542",
   "metadata": {},
   "source": [
    "## Scaling the Data"
   ]
  },
  {
   "cell_type": "code",
   "execution_count": 85,
   "id": "a2568aac",
   "metadata": {},
   "outputs": [],
   "source": [
    "#lets split our x and y column before scaling\n",
    "#x and y spitting\n",
    "Y = df_new['Price']\n",
    "X = df_new.drop('Price',axis = 1)"
   ]
  },
  {
   "cell_type": "code",
   "execution_count": 86,
   "id": "106d9272",
   "metadata": {},
   "outputs": [
    {
     "data": {
      "text/plain": [
       "(1611, 45)"
      ]
     },
     "execution_count": 86,
     "metadata": {},
     "output_type": "execute_result"
    }
   ],
   "source": [
    "X.shape"
   ]
  },
  {
   "cell_type": "code",
   "execution_count": 87,
   "id": "27f5ba34",
   "metadata": {},
   "outputs": [
    {
     "data": {
      "text/html": [
       "<div>\n",
       "<style scoped>\n",
       "    .dataframe tbody tr th:only-of-type {\n",
       "        vertical-align: middle;\n",
       "    }\n",
       "\n",
       "    .dataframe tbody tr th {\n",
       "        vertical-align: top;\n",
       "    }\n",
       "\n",
       "    .dataframe thead th {\n",
       "        text-align: right;\n",
       "    }\n",
       "</style>\n",
       "<table border=\"1\" class=\"dataframe\">\n",
       "  <thead>\n",
       "    <tr style=\"text-align: right;\">\n",
       "      <th></th>\n",
       "      <th>Duration_in_Minutes</th>\n",
       "      <th>Depature_hour</th>\n",
       "      <th>Arrival_hour</th>\n",
       "      <th>Days_priors_booking</th>\n",
       "      <th>Airline_Air Asia</th>\n",
       "      <th>Airline_Air India</th>\n",
       "      <th>Airline_Go First</th>\n",
       "      <th>Airline_IndiGo</th>\n",
       "      <th>Airline_SpiceJet</th>\n",
       "      <th>Airline_Vistara</th>\n",
       "      <th>...</th>\n",
       "      <th>Arrival_Part_of_the_day_Noon</th>\n",
       "      <th>Day_Friday</th>\n",
       "      <th>Day_Monday</th>\n",
       "      <th>Day_Saturday</th>\n",
       "      <th>Day_Sunday</th>\n",
       "      <th>Day_Thursday</th>\n",
       "      <th>Day_Tuesday</th>\n",
       "      <th>Day_Wednesday</th>\n",
       "      <th>Next_day_Arrival_No</th>\n",
       "      <th>Next_day_Arrival_Yes</th>\n",
       "    </tr>\n",
       "  </thead>\n",
       "  <tbody>\n",
       "    <tr>\n",
       "      <th>0</th>\n",
       "      <td>-0.463273</td>\n",
       "      <td>2.125164</td>\n",
       "      <td>-1.370853</td>\n",
       "      <td>-1.074835</td>\n",
       "      <td>3.280110</td>\n",
       "      <td>-0.544112</td>\n",
       "      <td>-0.307294</td>\n",
       "      <td>-0.647598</td>\n",
       "      <td>-0.288772</td>\n",
       "      <td>-0.543154</td>\n",
       "      <td>...</td>\n",
       "      <td>-0.502714</td>\n",
       "      <td>-0.47051</td>\n",
       "      <td>-0.288772</td>\n",
       "      <td>-0.446714</td>\n",
       "      <td>-0.288772</td>\n",
       "      <td>-0.494951</td>\n",
       "      <td>-0.288772</td>\n",
       "      <td>1.857492</td>\n",
       "      <td>-1.338666</td>\n",
       "      <td>1.338666</td>\n",
       "    </tr>\n",
       "    <tr>\n",
       "      <th>1</th>\n",
       "      <td>0.051397</td>\n",
       "      <td>1.548211</td>\n",
       "      <td>-1.182788</td>\n",
       "      <td>-1.074835</td>\n",
       "      <td>3.280110</td>\n",
       "      <td>-0.544112</td>\n",
       "      <td>-0.307294</td>\n",
       "      <td>-0.647598</td>\n",
       "      <td>-0.288772</td>\n",
       "      <td>-0.543154</td>\n",
       "      <td>...</td>\n",
       "      <td>-0.502714</td>\n",
       "      <td>-0.47051</td>\n",
       "      <td>-0.288772</td>\n",
       "      <td>-0.446714</td>\n",
       "      <td>-0.288772</td>\n",
       "      <td>-0.494951</td>\n",
       "      <td>-0.288772</td>\n",
       "      <td>1.857492</td>\n",
       "      <td>-1.338666</td>\n",
       "      <td>1.338666</td>\n",
       "    </tr>\n",
       "    <tr>\n",
       "      <th>2</th>\n",
       "      <td>0.639591</td>\n",
       "      <td>-1.336554</td>\n",
       "      <td>1.262053</td>\n",
       "      <td>-1.074835</td>\n",
       "      <td>3.280110</td>\n",
       "      <td>-0.544112</td>\n",
       "      <td>-0.307294</td>\n",
       "      <td>-0.647598</td>\n",
       "      <td>-0.288772</td>\n",
       "      <td>-0.543154</td>\n",
       "      <td>...</td>\n",
       "      <td>-0.502714</td>\n",
       "      <td>-0.47051</td>\n",
       "      <td>-0.288772</td>\n",
       "      <td>-0.446714</td>\n",
       "      <td>-0.288772</td>\n",
       "      <td>-0.494951</td>\n",
       "      <td>-0.288772</td>\n",
       "      <td>1.857492</td>\n",
       "      <td>0.747012</td>\n",
       "      <td>-0.747012</td>\n",
       "    </tr>\n",
       "    <tr>\n",
       "      <th>3</th>\n",
       "      <td>-1.247531</td>\n",
       "      <td>-1.336554</td>\n",
       "      <td>-1.370853</td>\n",
       "      <td>-1.074835</td>\n",
       "      <td>-0.304868</td>\n",
       "      <td>-0.544112</td>\n",
       "      <td>-0.307294</td>\n",
       "      <td>-0.647598</td>\n",
       "      <td>3.462937</td>\n",
       "      <td>-0.543154</td>\n",
       "      <td>...</td>\n",
       "      <td>-0.502714</td>\n",
       "      <td>-0.47051</td>\n",
       "      <td>-0.288772</td>\n",
       "      <td>-0.446714</td>\n",
       "      <td>-0.288772</td>\n",
       "      <td>-0.494951</td>\n",
       "      <td>-0.288772</td>\n",
       "      <td>1.857492</td>\n",
       "      <td>0.747012</td>\n",
       "      <td>-0.747012</td>\n",
       "    </tr>\n",
       "    <tr>\n",
       "      <th>4</th>\n",
       "      <td>-1.235277</td>\n",
       "      <td>-0.951919</td>\n",
       "      <td>-0.806659</td>\n",
       "      <td>-1.074835</td>\n",
       "      <td>-0.304868</td>\n",
       "      <td>-0.544112</td>\n",
       "      <td>3.254217</td>\n",
       "      <td>-0.647598</td>\n",
       "      <td>-0.288772</td>\n",
       "      <td>-0.543154</td>\n",
       "      <td>...</td>\n",
       "      <td>-0.502714</td>\n",
       "      <td>-0.47051</td>\n",
       "      <td>-0.288772</td>\n",
       "      <td>-0.446714</td>\n",
       "      <td>-0.288772</td>\n",
       "      <td>-0.494951</td>\n",
       "      <td>-0.288772</td>\n",
       "      <td>1.857492</td>\n",
       "      <td>0.747012</td>\n",
       "      <td>-0.747012</td>\n",
       "    </tr>\n",
       "  </tbody>\n",
       "</table>\n",
       "<p>5 rows × 45 columns</p>\n",
       "</div>"
      ],
      "text/plain": [
       "   Duration_in_Minutes  Depature_hour  Arrival_hour  Days_priors_booking  \\\n",
       "0            -0.463273       2.125164     -1.370853            -1.074835   \n",
       "1             0.051397       1.548211     -1.182788            -1.074835   \n",
       "2             0.639591      -1.336554      1.262053            -1.074835   \n",
       "3            -1.247531      -1.336554     -1.370853            -1.074835   \n",
       "4            -1.235277      -0.951919     -0.806659            -1.074835   \n",
       "\n",
       "   Airline_Air Asia  Airline_Air India  Airline_Go First  Airline_IndiGo  \\\n",
       "0          3.280110          -0.544112         -0.307294       -0.647598   \n",
       "1          3.280110          -0.544112         -0.307294       -0.647598   \n",
       "2          3.280110          -0.544112         -0.307294       -0.647598   \n",
       "3         -0.304868          -0.544112         -0.307294       -0.647598   \n",
       "4         -0.304868          -0.544112          3.254217       -0.647598   \n",
       "\n",
       "   Airline_SpiceJet  Airline_Vistara  ...  Arrival_Part_of_the_day_Noon  \\\n",
       "0         -0.288772        -0.543154  ...                     -0.502714   \n",
       "1         -0.288772        -0.543154  ...                     -0.502714   \n",
       "2         -0.288772        -0.543154  ...                     -0.502714   \n",
       "3          3.462937        -0.543154  ...                     -0.502714   \n",
       "4         -0.288772        -0.543154  ...                     -0.502714   \n",
       "\n",
       "   Day_Friday  Day_Monday  Day_Saturday  Day_Sunday  Day_Thursday  \\\n",
       "0    -0.47051   -0.288772     -0.446714   -0.288772     -0.494951   \n",
       "1    -0.47051   -0.288772     -0.446714   -0.288772     -0.494951   \n",
       "2    -0.47051   -0.288772     -0.446714   -0.288772     -0.494951   \n",
       "3    -0.47051   -0.288772     -0.446714   -0.288772     -0.494951   \n",
       "4    -0.47051   -0.288772     -0.446714   -0.288772     -0.494951   \n",
       "\n",
       "   Day_Tuesday  Day_Wednesday  Next_day_Arrival_No  Next_day_Arrival_Yes  \n",
       "0    -0.288772       1.857492            -1.338666              1.338666  \n",
       "1    -0.288772       1.857492            -1.338666              1.338666  \n",
       "2    -0.288772       1.857492             0.747012             -0.747012  \n",
       "3    -0.288772       1.857492             0.747012             -0.747012  \n",
       "4    -0.288772       1.857492             0.747012             -0.747012  \n",
       "\n",
       "[5 rows x 45 columns]"
      ]
     },
     "execution_count": 87,
     "metadata": {},
     "output_type": "execute_result"
    }
   ],
   "source": [
    "#Lets scale the data using standard scaler\n",
    "scaler = StandardScaler()\n",
    "scaled_X = pd.DataFrame(scaler.fit_transform(X),columns= X.columns)\n",
    "scaled_X.head()"
   ]
  },
  {
   "cell_type": "code",
   "execution_count": 88,
   "id": "1b3f9b0f",
   "metadata": {},
   "outputs": [],
   "source": [
    "#now our data is scaled using standard scaler"
   ]
  },
  {
   "cell_type": "markdown",
   "id": "ef70418f",
   "metadata": {},
   "source": [
    "## PCA (Principal Component Analysis):"
   ]
  },
  {
   "cell_type": "code",
   "execution_count": 89,
   "id": "13e25045",
   "metadata": {},
   "outputs": [],
   "source": [
    "#we need to use pca becuase we have 38 columns in this dataset which is very high"
   ]
  },
  {
   "cell_type": "code",
   "execution_count": 90,
   "id": "cc1bc7ef",
   "metadata": {},
   "outputs": [],
   "source": [
    "#we should always use scaled data for performing the PCA"
   ]
  },
  {
   "cell_type": "code",
   "execution_count": 91,
   "id": "0d04c3c0",
   "metadata": {},
   "outputs": [
    {
     "data": {
      "text/plain": [
       "(1611, 45)"
      ]
     },
     "execution_count": 91,
     "metadata": {},
     "output_type": "execute_result"
    }
   ],
   "source": [
    "#we have 38 columns excluding target variable\n",
    "scaled_X.shape"
   ]
  },
  {
   "cell_type": "code",
   "execution_count": 92,
   "id": "c8191c69",
   "metadata": {},
   "outputs": [],
   "source": [
    "#first lets TEST out percentage of data that we will obtain after PCA\n",
    "testpca = PCA()\n",
    "test_x = testpca.fit(scaled_X)"
   ]
  },
  {
   "cell_type": "code",
   "execution_count": 93,
   "id": "6d1d7f32",
   "metadata": {},
   "outputs": [
    {
     "data": {
      "text/plain": [
       "array([ 11.85435681,  20.33212103,  27.19134463,  33.54814645,\n",
       "        39.79137941,  44.91951287,  49.45315102,  53.3627219 ,\n",
       "        57.03259885,  60.13965645,  63.14838234,  66.04465798,\n",
       "        68.81446557,  71.5597438 ,  74.1388537 ,  76.62949857,\n",
       "        79.0596651 ,  81.46719704,  83.66699807,  85.79534175,\n",
       "        87.85028802,  89.79316579,  91.51750638,  93.1889386 ,\n",
       "        94.70299481,  96.09435473,  97.25038769,  98.30749264,\n",
       "        99.24753994,  99.89943604,  99.95126808,  99.98809376,\n",
       "       100.        , 100.        , 100.        , 100.        ,\n",
       "       100.        , 100.        , 100.        , 100.        ,\n",
       "       100.        , 100.        , 100.        , 100.        ,\n",
       "       100.        ])"
      ]
     },
     "execution_count": 93,
     "metadata": {},
     "output_type": "execute_result"
    }
   ],
   "source": [
    "#now lets out cumulative score \n",
    "cum_score = np.cumsum(test_x.explained_variance_ratio_)*100\n",
    "cum_score  "
   ]
  },
  {
   "cell_type": "code",
   "execution_count": 94,
   "id": "8c856f53",
   "metadata": {},
   "outputs": [
    {
     "name": "stdout",
     "output_type": "stream",
     "text": [
      "Number of components expaining 90% of variance is : 22\n"
     ]
    }
   ],
   "source": [
    "#lets check how many columns gives 90% of variance\n",
    "s = np.argmax(cum_score > 90)\n",
    "print(\"Number of components expaining 90% of variance is :\", s)"
   ]
  },
  {
   "cell_type": "code",
   "execution_count": 95,
   "id": "5a1b7772",
   "metadata": {},
   "outputs": [
    {
     "name": "stdout",
     "output_type": "stream",
     "text": [
      "Number of components expaining 95% of variance is : 25\n"
     ]
    }
   ],
   "source": [
    "#lets check how many columns gives 95% of variance\n",
    "s = np.argmax(cum_score > 95)\n",
    "print(\"Number of components expaining 95% of variance is :\", s)"
   ]
  },
  {
   "cell_type": "code",
   "execution_count": 96,
   "id": "714f0258",
   "metadata": {},
   "outputs": [],
   "source": [
    "#now we have seen that how much data will be lost based number of columns"
   ]
  },
  {
   "cell_type": "code",
   "execution_count": 97,
   "id": "570463d1",
   "metadata": {},
   "outputs": [
    {
     "data": {
      "image/png": "[encoded data removed]",
      "text/plain": [
       "<Figure size 432x288 with 1 Axes>"
      ]
     },
     "metadata": {
      "needs_background": "light"
     },
     "output_type": "display_data"
    }
   ],
   "source": [
    "#lets plot the graph for graphical understanding\n",
    "plt.ylabel('Cumulative Explained Ratio')\n",
    "plt.xlabel('Principle Components')\n",
    "\n",
    "plt.axvline(x = s, color = 'k', linestyle = '--')\n",
    "plt.axhline(y = 95, color = 'k', linestyle = '--')\n",
    "\n",
    "plt.plot(cum_score)\n",
    "plt.show()"
   ]
  },
  {
   "cell_type": "markdown",
   "id": "eb6b3163",
   "metadata": {},
   "source": [
    "#### From the above plot we can see that for 25 columns 95% of data will be retrived"
   ]
  },
  {
   "cell_type": "code",
   "execution_count": 98,
   "id": "c9911ebc",
   "metadata": {},
   "outputs": [],
   "source": [
    "#lets perform the PCA with 24 columns\n",
    "Final_pca = PCA(n_components= 25)\n",
    "\n",
    "pca_x = pd.DataFrame(Final_pca.fit_transform(scaled_X))"
   ]
  },
  {
   "cell_type": "code",
   "execution_count": 99,
   "id": "4f8a2988",
   "metadata": {},
   "outputs": [
    {
     "data": {
      "text/html": [
       "<div>\n",
       "<style scoped>\n",
       "    .dataframe tbody tr th:only-of-type {\n",
       "        vertical-align: middle;\n",
       "    }\n",
       "\n",
       "    .dataframe tbody tr th {\n",
       "        vertical-align: top;\n",
       "    }\n",
       "\n",
       "    .dataframe thead th {\n",
       "        text-align: right;\n",
       "    }\n",
       "</style>\n",
       "<table border=\"1\" class=\"dataframe\">\n",
       "  <thead>\n",
       "    <tr style=\"text-align: right;\">\n",
       "      <th></th>\n",
       "      <th>0</th>\n",
       "      <th>1</th>\n",
       "      <th>2</th>\n",
       "      <th>3</th>\n",
       "      <th>4</th>\n",
       "      <th>5</th>\n",
       "      <th>6</th>\n",
       "      <th>7</th>\n",
       "      <th>8</th>\n",
       "      <th>9</th>\n",
       "      <th>...</th>\n",
       "      <th>15</th>\n",
       "      <th>16</th>\n",
       "      <th>17</th>\n",
       "      <th>18</th>\n",
       "      <th>19</th>\n",
       "      <th>20</th>\n",
       "      <th>21</th>\n",
       "      <th>22</th>\n",
       "      <th>23</th>\n",
       "      <th>24</th>\n",
       "    </tr>\n",
       "  </thead>\n",
       "  <tbody>\n",
       "    <tr>\n",
       "      <th>0</th>\n",
       "      <td>3.149937</td>\n",
       "      <td>1.864914</td>\n",
       "      <td>-3.892351</td>\n",
       "      <td>-1.374993</td>\n",
       "      <td>-1.639341</td>\n",
       "      <td>0.066461</td>\n",
       "      <td>0.551029</td>\n",
       "      <td>1.662039</td>\n",
       "      <td>-0.304338</td>\n",
       "      <td>0.320975</td>\n",
       "      <td>...</td>\n",
       "      <td>2.119278</td>\n",
       "      <td>1.144871</td>\n",
       "      <td>-1.009514e-13</td>\n",
       "      <td>-0.197787</td>\n",
       "      <td>1.036613</td>\n",
       "      <td>-1.275532</td>\n",
       "      <td>1.161210</td>\n",
       "      <td>-0.259676</td>\n",
       "      <td>-1.642735</td>\n",
       "      <td>-0.102537</td>\n",
       "    </tr>\n",
       "    <tr>\n",
       "      <th>1</th>\n",
       "      <td>3.165569</td>\n",
       "      <td>1.599564</td>\n",
       "      <td>-3.067477</td>\n",
       "      <td>-1.083472</td>\n",
       "      <td>-1.631077</td>\n",
       "      <td>-0.766570</td>\n",
       "      <td>0.861333</td>\n",
       "      <td>0.449526</td>\n",
       "      <td>-0.430040</td>\n",
       "      <td>1.130456</td>\n",
       "      <td>...</td>\n",
       "      <td>0.291773</td>\n",
       "      <td>0.365065</td>\n",
       "      <td>-2.419511e-14</td>\n",
       "      <td>-0.408467</td>\n",
       "      <td>-0.014941</td>\n",
       "      <td>1.261634</td>\n",
       "      <td>0.985970</td>\n",
       "      <td>-2.166046</td>\n",
       "      <td>-0.548277</td>\n",
       "      <td>-0.403672</td>\n",
       "    </tr>\n",
       "    <tr>\n",
       "      <th>2</th>\n",
       "      <td>-0.791918</td>\n",
       "      <td>1.963852</td>\n",
       "      <td>-0.214012</td>\n",
       "      <td>-0.986673</td>\n",
       "      <td>-1.934117</td>\n",
       "      <td>0.303495</td>\n",
       "      <td>-2.767788</td>\n",
       "      <td>3.031429</td>\n",
       "      <td>0.555515</td>\n",
       "      <td>-0.785993</td>\n",
       "      <td>...</td>\n",
       "      <td>0.005372</td>\n",
       "      <td>0.310695</td>\n",
       "      <td>-2.446467e-14</td>\n",
       "      <td>-1.377275</td>\n",
       "      <td>0.339613</td>\n",
       "      <td>1.134381</td>\n",
       "      <td>0.205608</td>\n",
       "      <td>-2.426469</td>\n",
       "      <td>-0.104268</td>\n",
       "      <td>-1.789628</td>\n",
       "    </tr>\n",
       "    <tr>\n",
       "      <th>3</th>\n",
       "      <td>-0.486164</td>\n",
       "      <td>1.805325</td>\n",
       "      <td>-1.343228</td>\n",
       "      <td>-2.382224</td>\n",
       "      <td>-0.846197</td>\n",
       "      <td>0.600718</td>\n",
       "      <td>0.334233</td>\n",
       "      <td>1.962197</td>\n",
       "      <td>1.704739</td>\n",
       "      <td>-1.101626</td>\n",
       "      <td>...</td>\n",
       "      <td>-2.893291</td>\n",
       "      <td>-0.600962</td>\n",
       "      <td>6.611191e-14</td>\n",
       "      <td>-1.096893</td>\n",
       "      <td>0.626089</td>\n",
       "      <td>-0.990294</td>\n",
       "      <td>-1.047570</td>\n",
       "      <td>-1.438415</td>\n",
       "      <td>-2.354863</td>\n",
       "      <td>1.507278</td>\n",
       "    </tr>\n",
       "    <tr>\n",
       "      <th>4</th>\n",
       "      <td>-0.683117</td>\n",
       "      <td>1.441120</td>\n",
       "      <td>-1.466330</td>\n",
       "      <td>-0.856984</td>\n",
       "      <td>-2.294408</td>\n",
       "      <td>0.901264</td>\n",
       "      <td>0.515789</td>\n",
       "      <td>1.470200</td>\n",
       "      <td>2.530961</td>\n",
       "      <td>-1.484835</td>\n",
       "      <td>...</td>\n",
       "      <td>-2.593111</td>\n",
       "      <td>-0.745832</td>\n",
       "      <td>6.680996e-14</td>\n",
       "      <td>-2.398234</td>\n",
       "      <td>-1.242048</td>\n",
       "      <td>-0.705842</td>\n",
       "      <td>0.469962</td>\n",
       "      <td>1.426735</td>\n",
       "      <td>0.898428</td>\n",
       "      <td>-0.395288</td>\n",
       "    </tr>\n",
       "  </tbody>\n",
       "</table>\n",
       "<p>5 rows × 25 columns</p>\n",
       "</div>"
      ],
      "text/plain": [
       "         0         1         2         3         4         5         6   \\\n",
       "0  3.149937  1.864914 -3.892351 -1.374993 -1.639341  0.066461  0.551029   \n",
       "1  3.165569  1.599564 -3.067477 -1.083472 -1.631077 -0.766570  0.861333   \n",
       "2 -0.791918  1.963852 -0.214012 -0.986673 -1.934117  0.303495 -2.767788   \n",
       "3 -0.486164  1.805325 -1.343228 -2.382224 -0.846197  0.600718  0.334233   \n",
       "4 -0.683117  1.441120 -1.466330 -0.856984 -2.294408  0.901264  0.515789   \n",
       "\n",
       "         7         8         9   ...        15        16            17  \\\n",
       "0  1.662039 -0.304338  0.320975  ...  2.119278  1.144871 -1.009514e-13   \n",
       "1  0.449526 -0.430040  1.130456  ...  0.291773  0.365065 -2.419511e-14   \n",
       "2  3.031429  0.555515 -0.785993  ...  0.005372  0.310695 -2.446467e-14   \n",
       "3  1.962197  1.704739 -1.101626  ... -2.893291 -0.600962  6.611191e-14   \n",
       "4  1.470200  2.530961 -1.484835  ... -2.593111 -0.745832  6.680996e-14   \n",
       "\n",
       "         18        19        20        21        22        23        24  \n",
       "0 -0.197787  1.036613 -1.275532  1.161210 -0.259676 -1.642735 -0.102537  \n",
       "1 -0.408467 -0.014941  1.261634  0.985970 -2.166046 -0.548277 -0.403672  \n",
       "2 -1.377275  0.339613  1.134381  0.205608 -2.426469 -0.104268 -1.789628  \n",
       "3 -1.096893  0.626089 -0.990294 -1.047570 -1.438415 -2.354863  1.507278  \n",
       "4 -2.398234 -1.242048 -0.705842  0.469962  1.426735  0.898428 -0.395288  \n",
       "\n",
       "[5 rows x 25 columns]"
      ]
     },
     "execution_count": 99,
     "metadata": {},
     "output_type": "execute_result"
    }
   ],
   "source": [
    "#lets create a datafram\n",
    "pca_x.head()"
   ]
  },
  {
   "cell_type": "code",
   "execution_count": 100,
   "id": "5f139302",
   "metadata": {},
   "outputs": [
    {
     "name": "stdout",
     "output_type": "stream",
     "text": [
      "variance is : 0.9470299481410226\n"
     ]
    }
   ],
   "source": [
    "print(\"variance is : {}\".format(np.sum(Final_pca.explained_variance_ratio_)))"
   ]
  },
  {
   "cell_type": "code",
   "execution_count": 101,
   "id": "bab580d9",
   "metadata": {},
   "outputs": [
    {
     "data": {
      "text/plain": [
       "(1611, 25)"
      ]
     },
     "execution_count": 101,
     "metadata": {},
     "output_type": "execute_result"
    }
   ],
   "source": [
    "pca_x.shape"
   ]
  },
  {
   "cell_type": "markdown",
   "id": "7d380c7a",
   "metadata": {},
   "source": [
    "## Best random state"
   ]
  },
  {
   "cell_type": "code",
   "execution_count": 102,
   "id": "ab81b282",
   "metadata": {},
   "outputs": [
    {
     "name": "stdout",
     "output_type": "stream",
     "text": [
      "Best r2 score is 0.6951706950402602 on random state 140\n"
     ]
    }
   ],
   "source": [
    "max_r2score = 0\n",
    "rand_state = 0\n",
    "for i in range(1,200):\n",
    "    x_train,x_test,y_train,y_test = train_test_split(pca_x,Y,test_size=.22,random_state= i )\n",
    "    lr = LinearRegression()\n",
    "    lr.fit(x_train,y_train)\n",
    "    pred = lr.predict(x_test)\n",
    "    r2 = r2_score(y_test,pred)\n",
    "    if r2 > max_r2score:\n",
    "        max_r2score = r2\n",
    "        rand_state = i\n",
    "print('Best r2 score is {} on random state {}'.format(max_r2score,rand_state)) "
   ]
  },
  {
   "cell_type": "code",
   "execution_count": 103,
   "id": "6a3016df",
   "metadata": {},
   "outputs": [
    {
     "name": "stdout",
     "output_type": "stream",
     "text": [
      "We got our best randoms sate as : 140\n"
     ]
    }
   ],
   "source": [
    "print('We got our best randoms sate as :',rand_state)"
   ]
  },
  {
   "cell_type": "code",
   "execution_count": 104,
   "id": "5a4a5986",
   "metadata": {},
   "outputs": [],
   "source": [
    "#Lets split for train and test data\n",
    "x_train,x_test,y_train,y_test = train_test_split(pca_x,Y,test_size=.22,random_state= rand_state )"
   ]
  },
  {
   "cell_type": "code",
   "execution_count": 105,
   "id": "f0d77082",
   "metadata": {},
   "outputs": [
    {
     "name": "stdout",
     "output_type": "stream",
     "text": [
      "r2_score of linear refression is : 0.6951706950402602\n",
      "Error :\n",
      "mean absolute error : 3597.4374685695016\n",
      "mean squared error :  19357960.20887996\n",
      "root mean squared error : 4399.768199448689\n"
     ]
    }
   ],
   "source": [
    "lrg = LinearRegression()\n",
    "lrg.fit(x_train,y_train)\n",
    "pr =lrg.predict(x_test)\n",
    "print(\"r2_score of linear refression is :\", r2_score(y_test,pr))\n",
    "print('Error :')\n",
    "print('mean absolute error :',mean_absolute_error(y_test,pred))\n",
    "print('mean squared error : ', mean_squared_error(y_test,pred))\n",
    "print('root mean squared error :',np.sqrt(mean_squared_error(y_test,pred)))"
   ]
  },
  {
   "cell_type": "markdown",
   "id": "e9508b8e",
   "metadata": {},
   "source": [
    "## Model selection :"
   ]
  },
  {
   "cell_type": "code",
   "execution_count": 106,
   "id": "2fe92aba",
   "metadata": {},
   "outputs": [],
   "source": [
    "#lets Choose r2 score of below four Models\n",
    "dtc = DecisionTreeRegressor()\n",
    "knn = KNeighborsRegressor(n_neighbors=5)\n",
    "rf = RandomForestRegressor()\n",
    "ada = AdaBoostRegressor()"
   ]
  },
  {
   "cell_type": "code",
   "execution_count": 107,
   "id": "65beefd7",
   "metadata": {},
   "outputs": [
    {
     "name": "stdout",
     "output_type": "stream",
     "text": [
      "\n",
      "\n",
      "DecisionTreeRegressor()\n",
      "Scores :\n",
      "r2 score: 0.8127532004570739\n",
      "Cross Val score : -2.617234370957825\n",
      "Error :\n",
      "mean absolute error : 643.9859154929577\n",
      "mean squared error :  2300128.842253521\n",
      "root mean squared error : 1516.6175662484993\n",
      "Difference :\n",
      "Diffrence between cross val score and r2 score is : 3.43\n",
      "\n",
      "\n",
      "KNeighborsRegressor()\n",
      "Scores :\n",
      "r2 score: 0.8405881495596268\n",
      "Cross Val score : -0.1285775537056941\n",
      "Error :\n",
      "mean absolute error : 880.4056338028169\n",
      "mean squared error :  1958205.9393802818\n",
      "root mean squared error : 1399.359117374908\n",
      "Difference :\n",
      "Diffrence between cross val score and r2 score is : 0.97\n",
      "\n",
      "\n",
      "RandomForestRegressor()\n",
      "Scores :\n",
      "r2 score: 0.9112200542997836\n",
      "Cross Val score : -0.9324741693884183\n",
      "Error :\n",
      "mean absolute error : 651.2223661971831\n",
      "mean squared error :  1090567.71179662\n",
      "root mean squared error : 1044.3025001390258\n",
      "Difference :\n",
      "Diffrence between cross val score and r2 score is : 1.84\n",
      "\n",
      "\n",
      "AdaBoostRegressor()\n",
      "Scores :\n",
      "r2 score: 0.7440735156979998\n",
      "Cross Val score : -0.652817374716703\n",
      "Error :\n",
      "mean absolute error : 1474.0280186149187\n",
      "mean squared error :  3143786.112641262\n",
      "root mean squared error : 1773.072506312492\n",
      "Difference :\n",
      "Diffrence between cross val score and r2 score is : 1.40\n"
     ]
    }
   ],
   "source": [
    "#checking each model with Cross val score\n",
    "model_list = [dtc,knn,rf,ada]\n",
    "least_difference = []\n",
    "for m in model_list:\n",
    "    m.fit(x_train,y_train)\n",
    "    pred = m.predict(x_test)\n",
    "    cvs = cross_val_score(m,pca_x,Y,cv =5)\n",
    "    print('\\n')\n",
    "    print(m)\n",
    "    print('Scores :')\n",
    "    print('r2 score:',r2_score(y_test,pred))\n",
    "    print('Cross Val score :',cvs.mean())\n",
    "    print('Error :')\n",
    "    print('mean absolute error :',mean_absolute_error(y_test,pred))\n",
    "    print('mean squared error : ', mean_squared_error(y_test,pred))\n",
    "    print('root mean squared error :',np.sqrt(mean_squared_error(y_test,pred)))\n",
    "    print('Difference :')\n",
    "    difference = np.abs(r2_score(y_test,pred) - cvs.mean())\n",
    "    print('Diffrence between cross val score and r2 score is : {0:.2f}'.format(difference))\n",
    "    least_difference.append((m,'Diffrence between cross val score and r2 score error is : {0:.2f}'.format(difference)))"
   ]
  },
  {
   "cell_type": "markdown",
   "id": "90f24178",
   "metadata": {},
   "source": [
    "## RandomForestRegressor giving the best Score of 91%"
   ]
  },
  {
   "cell_type": "markdown",
   "id": "86b3d72c",
   "metadata": {},
   "source": [
    "## Hyperparameter Tuning:"
   ]
  },
  {
   "cell_type": "code",
   "execution_count": 109,
   "id": "6aa0ee17",
   "metadata": {},
   "outputs": [
    {
     "name": "stdout",
     "output_type": "stream",
     "text": [
      "0.8515586124486496\n",
      "{'n_estimators': 100, 'max_features': 'auto', 'criterion': 'mse'}\n"
     ]
    }
   ],
   "source": [
    "#lets use random forest regressor\n",
    "#it takes a lot lot of time approx 6 hours, so commented after\n",
    "parameters = {'n_estimators' : [100,200,300],'criterion':['mse','mae'],'max_features':['auto','sqrt','log2']}\n",
    "gsvrf = RandomizedSearchCV(rf, parameters, cv=5,scoring=\"r2\")\n",
    "gsvrf.fit(x_train,y_train)\n",
    "print(gsvrf.best_score_)\n",
    "print(gsvrf.best_params_)"
   ]
  },
  {
   "cell_type": "markdown",
   "id": "f93c4e6f",
   "metadata": {},
   "source": [
    "## Creating a Final Model as RandomForestRegressor"
   ]
  },
  {
   "cell_type": "code",
   "execution_count": 110,
   "id": "77b42a20",
   "metadata": {},
   "outputs": [
    {
     "name": "stdout",
     "output_type": "stream",
     "text": [
      "\n",
      "\n",
      "Scores :\n",
      "r2 score: 0.9112014590749229\n",
      "Cross Val score : -0.7503076344554618\n",
      "Error :\n",
      "mean absolute error : 639.3714366197183\n",
      "mean squared error :  1090796.134461972\n",
      "root mean squared error : 1044.4118605521348\n",
      "Difference :\n",
      "Diffrence between cross val score and r2 score is : 1.66\n"
     ]
    }
   ],
   "source": [
    "final_model_rf = RandomForestRegressor(n_estimators= 100,criterion= 'mse',max_features = 'auto')\n",
    "final_model_rf.fit(x_train,y_train)\n",
    "final_pred = final_model_rf.predict(x_test)\n",
    "cvs = cross_val_score(final_model_rf,pca_x,Y,cv =5)\n",
    "print('\\n')\n",
    "print('Scores :')\n",
    "print('r2 score:',r2_score(y_test,final_pred))\n",
    "print('Cross Val score :',cvs.mean())\n",
    "print('Error :')\n",
    "print('mean absolute error :',mean_absolute_error(y_test,final_pred))\n",
    "print('mean squared error : ', mean_squared_error(y_test,final_pred))\n",
    "print('root mean squared error :',np.sqrt(mean_squared_error(y_test,final_pred)))\n",
    "print('Difference :')\n",
    "difference = np.abs(r2_score(y_test,final_pred) - cvs.mean())\n",
    "print('Diffrence between cross val score and r2 score is : {0:.2f}'.format(difference))\n",
    "least_difference.append((m,'Diffrence between cross val score and r2 score is : {0:.2f}'.format(difference)))"
   ]
  },
  {
   "cell_type": "markdown",
   "id": "2bb17376",
   "metadata": {},
   "source": [
    "## Saving the model:"
   ]
  },
  {
   "cell_type": "code",
   "execution_count": 111,
   "id": "3e1e626f",
   "metadata": {},
   "outputs": [
    {
     "data": {
      "text/plain": [
       "['Flight_Price_Prediction.obj']"
      ]
     },
     "execution_count": 111,
     "metadata": {},
     "output_type": "execute_result"
    }
   ],
   "source": [
    "#serialization using joblib\n",
    "import joblib\n",
    "joblib.dump(final_model_rf,'Flight_Price_Prediction.obj')"
   ]
  },
  {
   "cell_type": "code",
   "execution_count": 112,
   "id": "dcf60cfc",
   "metadata": {},
   "outputs": [],
   "source": [
    "Flight_Price = joblib.load('Flight_Price_Prediction.obj')"
   ]
  },
  {
   "cell_type": "code",
   "execution_count": 113,
   "id": "d0261d38",
   "metadata": {},
   "outputs": [],
   "source": [
    "s_pred = Flight_Price.predict(x_test)"
   ]
  },
  {
   "cell_type": "code",
   "execution_count": 114,
   "id": "3cf8285a",
   "metadata": {},
   "outputs": [
    {
     "data": {
      "text/plain": [
       "0.9112014590749229"
      ]
     },
     "execution_count": 114,
     "metadata": {},
     "output_type": "execute_result"
    }
   ],
   "source": [
    "r2_score(y_test,s_pred)"
   ]
  },
  {
   "cell_type": "markdown",
   "id": "9f48efa7",
   "metadata": {},
   "source": [
    "our r2_score is 91.12% percent"
   ]
  },
  {
   "cell_type": "code",
   "execution_count": 115,
   "id": "4411c57f",
   "metadata": {},
   "outputs": [
    {
     "data": {
      "image/png": "[encoded data removed]",
      "text/plain": [
       "<Figure size 432x288 with 1 Axes>"
      ]
     },
     "metadata": {
      "needs_background": "light"
     },
     "output_type": "display_data"
    }
   ],
   "source": [
    "#lets plot y_test vs predicted \n",
    "\n",
    "plt.figure(figsize=(6,4))\n",
    "plt.scatter(x = y_test,y = s_pred,color = 'r')\n",
    "plt.plot(y_test,y_test,color = 'b')\n",
    "plt.xlabel('Actual charges')\n",
    "plt.ylabel('Predicted charges')\n",
    "plt.title('Random forest Regressor')\n",
    "plt.show()"
   ]
  },
  {
   "cell_type": "markdown",
   "id": "3e908e53",
   "metadata": {},
   "source": [
    "we can see that values are very close to the line"
   ]
  },
  {
   "cell_type": "markdown",
   "id": "d3e265d5",
   "metadata": {},
   "source": [
    "## Conclusion"
   ]
  },
  {
   "cell_type": "code",
   "execution_count": 116,
   "id": "991b2d1c",
   "metadata": {},
   "outputs": [
    {
     "data": {
      "text/html": [
       "<div>\n",
       "<style scoped>\n",
       "    .dataframe tbody tr th:only-of-type {\n",
       "        vertical-align: middle;\n",
       "    }\n",
       "\n",
       "    .dataframe tbody tr th {\n",
       "        vertical-align: top;\n",
       "    }\n",
       "\n",
       "    .dataframe thead th {\n",
       "        text-align: right;\n",
       "    }\n",
       "</style>\n",
       "<table border=\"1\" class=\"dataframe\">\n",
       "  <thead>\n",
       "    <tr style=\"text-align: right;\">\n",
       "      <th></th>\n",
       "      <th>0</th>\n",
       "      <th>1</th>\n",
       "      <th>2</th>\n",
       "      <th>3</th>\n",
       "      <th>4</th>\n",
       "      <th>5</th>\n",
       "      <th>6</th>\n",
       "      <th>7</th>\n",
       "      <th>8</th>\n",
       "      <th>9</th>\n",
       "      <th>...</th>\n",
       "      <th>345</th>\n",
       "      <th>346</th>\n",
       "      <th>347</th>\n",
       "      <th>348</th>\n",
       "      <th>349</th>\n",
       "      <th>350</th>\n",
       "      <th>351</th>\n",
       "      <th>352</th>\n",
       "      <th>353</th>\n",
       "      <th>354</th>\n",
       "    </tr>\n",
       "  </thead>\n",
       "  <tbody>\n",
       "    <tr>\n",
       "      <th>Predicted</th>\n",
       "      <td>13652.56</td>\n",
       "      <td>12983.39</td>\n",
       "      <td>11904.41</td>\n",
       "      <td>11029.65</td>\n",
       "      <td>9302.93</td>\n",
       "      <td>13155.54</td>\n",
       "      <td>9690.53</td>\n",
       "      <td>3703.46</td>\n",
       "      <td>3644.16</td>\n",
       "      <td>9661.23</td>\n",
       "      <td>...</td>\n",
       "      <td>9730.46</td>\n",
       "      <td>9088.37</td>\n",
       "      <td>9576.42</td>\n",
       "      <td>10442.53</td>\n",
       "      <td>8120.3</td>\n",
       "      <td>10376.8</td>\n",
       "      <td>14751.12</td>\n",
       "      <td>10724.69</td>\n",
       "      <td>13027.86</td>\n",
       "      <td>14690.0</td>\n",
       "    </tr>\n",
       "    <tr>\n",
       "      <th>Actual</th>\n",
       "      <td>14524.00</td>\n",
       "      <td>12581.00</td>\n",
       "      <td>9726.00</td>\n",
       "      <td>9830.00</td>\n",
       "      <td>10744.00</td>\n",
       "      <td>13206.00</td>\n",
       "      <td>9840.00</td>\n",
       "      <td>3498.00</td>\n",
       "      <td>3498.00</td>\n",
       "      <td>5425.00</td>\n",
       "      <td>...</td>\n",
       "      <td>9840.00</td>\n",
       "      <td>9828.00</td>\n",
       "      <td>9311.00</td>\n",
       "      <td>10744.00</td>\n",
       "      <td>8778.0</td>\n",
       "      <td>10834.0</td>\n",
       "      <td>14690.00</td>\n",
       "      <td>10744.00</td>\n",
       "      <td>12581.00</td>\n",
       "      <td>14690.0</td>\n",
       "    </tr>\n",
       "  </tbody>\n",
       "</table>\n",
       "<p>2 rows × 355 columns</p>\n",
       "</div>"
      ],
      "text/plain": [
       "                0         1         2         3         4         5    \\\n",
       "Predicted  13652.56  12983.39  11904.41  11029.65   9302.93  13155.54   \n",
       "Actual     14524.00  12581.00   9726.00   9830.00  10744.00  13206.00   \n",
       "\n",
       "               6        7        8        9    ...      345      346      347  \\\n",
       "Predicted  9690.53  3703.46  3644.16  9661.23  ...  9730.46  9088.37  9576.42   \n",
       "Actual     9840.00  3498.00  3498.00  5425.00  ...  9840.00  9828.00  9311.00   \n",
       "\n",
       "                348     349      350       351       352       353      354  \n",
       "Predicted  10442.53  8120.3  10376.8  14751.12  10724.69  13027.86  14690.0  \n",
       "Actual     10744.00  8778.0  10834.0  14690.00  10744.00  12581.00  14690.0  \n",
       "\n",
       "[2 rows x 355 columns]"
      ]
     },
     "execution_count": 116,
     "metadata": {},
     "output_type": "execute_result"
    }
   ],
   "source": [
    "#lets make a dataframe of actual answers vs predicted answers\n",
    "conclusion = pd.DataFrame((Flight_Price.predict(x_test)[:],y_test[:]),index= ['Predicted','Actual'])\n",
    "conclusion"
   ]
  },
  {
   "cell_type": "markdown",
   "id": "6ffdddeb",
   "metadata": {},
   "source": [
    "91% of Our answers are correct, and the model is also not overfitted"
   ]
  },
  {
   "cell_type": "code",
   "execution_count": null,
   "id": "e1c444ba",
   "metadata": {},
   "outputs": [],
   "source": []
  }
 ],
 "metadata": {
  "kernelspec": {
   "display_name": "Python 3",
   "language": "python",
   "name": "python3"
  },
  "language_info": {
   "codemirror_mode": {
    "name": "ipython",
    "version": 3
   },
   "file_extension": ".py",
   "mimetype": "text/x-python",
   "name": "python",
   "nbconvert_exporter": "python",
   "pygments_lexer": "ipython3",
   "version": "3.8.8"
  }
 },
 "nbformat": 4,
 "nbformat_minor": 5
}
